{
 "cells": [
  {
   "cell_type": "markdown",
   "metadata": {},
   "source": [
    "# Imports"
   ]
  },
  {
   "cell_type": "code",
   "execution_count": 957,
   "metadata": {
    "executionInfo": {
     "elapsed": 737,
     "status": "ok",
     "timestamp": 1758478846675,
     "user": {
      "displayName": "Prateek Kumar",
      "userId": "08265699435142319276"
     },
     "user_tz": -330
    },
    "id": "sb1-cyBeQXih"
   },
   "outputs": [],
   "source": [
    "import pandas as pd\n",
    "import seaborn as sns\n",
    "import matplotlib.pyplot as plt\n",
    "import numpy as np\n",
    "from sklearn.model_selection import train_test_split\n",
    "from xgboost import XGBRegressor\n",
    "from sklearn.metrics import mean_squared_error, mean_absolute_error, r2_score, make_scorer\n",
    "from sklearn.model_selection import GridSearchCV\n",
    "from sklearn.metrics import make_scorer, r2_score\n",
    "import pickle"
   ]
  },
  {
   "cell_type": "markdown",
   "metadata": {
    "jp-MarkdownHeadingCollapsed": true
   },
   "source": [
    "# Importing file and descriptive analysis"
   ]
  },
  {
   "cell_type": "code",
   "execution_count": 854,
   "metadata": {
    "executionInfo": {
     "elapsed": 595,
     "status": "ok",
     "timestamp": 1758478847288,
     "user": {
      "displayName": "Prateek Kumar",
      "userId": "08265699435142319276"
     },
     "user_tz": -330
    },
    "id": "yYjsShdERPEo"
   },
   "outputs": [],
   "source": [
    "df = pd.read_parquet(\"Dataset/trainset.parquet\")"
   ]
  },
  {
   "cell_type": "code",
   "execution_count": 855,
   "metadata": {
    "colab": {
     "base_uri": "https://localhost:8080/",
     "height": 226
    },
    "executionInfo": {
     "elapsed": 37,
     "status": "ok",
     "timestamp": 1758478847329,
     "user": {
      "displayName": "Prateek Kumar",
      "userId": "08265699435142319276"
     },
     "user_tz": -330
    },
    "id": "nf6VtIVBRoq_",
    "outputId": "b0c830ce-4919-4ae4-bd2e-a4347add69bd"
   },
   "outputs": [
    {
     "data": {
      "text/html": [
       "<div>\n",
       "<style scoped>\n",
       "    .dataframe tbody tr th:only-of-type {\n",
       "        vertical-align: middle;\n",
       "    }\n",
       "\n",
       "    .dataframe tbody tr th {\n",
       "        vertical-align: top;\n",
       "    }\n",
       "\n",
       "    .dataframe thead th {\n",
       "        text-align: right;\n",
       "    }\n",
       "</style>\n",
       "<table border=\"1\" class=\"dataframe\">\n",
       "  <thead>\n",
       "    <tr style=\"text-align: right;\">\n",
       "      <th></th>\n",
       "      <th>order_id</th>\n",
       "      <th>product_id</th>\n",
       "      <th>seller_id</th>\n",
       "      <th>customer_unique_id</th>\n",
       "      <th>delivery_delay_hours</th>\n",
       "      <th>seller_state</th>\n",
       "      <th>customer_state</th>\n",
       "      <th>review_score</th>\n",
       "      <th>price</th>\n",
       "      <th>freight_value</th>\n",
       "      <th>seller_grade</th>\n",
       "      <th>product_category_name_english</th>\n",
       "      <th>product_description_lenght</th>\n",
       "      <th>product_photos_qty</th>\n",
       "      <th>time_to_ship_hours</th>\n",
       "      <th>purchase_count</th>\n",
       "      <th>avg_review_score</th>\n",
       "      <th>order_purchase_timestamp</th>\n",
       "    </tr>\n",
       "  </thead>\n",
       "  <tbody>\n",
       "    <tr>\n",
       "      <th>0</th>\n",
       "      <td>e481f51cbdc54678b7cc49136f2d6af7</td>\n",
       "      <td>87285b34884572647811a353c7ac498a</td>\n",
       "      <td>3504c0cb71d7fa48d967e0e4c94d59d9</td>\n",
       "      <td>7c396fd4830fd04220f754e42b4e5bff</td>\n",
       "      <td>-170.579722</td>\n",
       "      <td>SP</td>\n",
       "      <td>SP</td>\n",
       "      <td>4</td>\n",
       "      <td>29.99</td>\n",
       "      <td>8.72</td>\n",
       "      <td>Mediocre</td>\n",
       "      <td>housewares</td>\n",
       "      <td>268.0</td>\n",
       "      <td>4.0</td>\n",
       "      <td>56.974167</td>\n",
       "      <td>53</td>\n",
       "      <td>4.415094</td>\n",
       "      <td>2017-10-02 10:56:33</td>\n",
       "    </tr>\n",
       "    <tr>\n",
       "      <th>1</th>\n",
       "      <td>53cdb2fc8bc7dce0b6741e2150273451</td>\n",
       "      <td>595fac2a385ac33a80bd5114aec74eb8</td>\n",
       "      <td>289cdb325fb7e7f891c38608bf9e0962</td>\n",
       "      <td>af07308b275d755c9edb36a90c618231</td>\n",
       "      <td>-128.537500</td>\n",
       "      <td>SP</td>\n",
       "      <td>BA</td>\n",
       "      <td>4</td>\n",
       "      <td>118.70</td>\n",
       "      <td>22.76</td>\n",
       "      <td>Mediocre</td>\n",
       "      <td>perfumery</td>\n",
       "      <td>178.0</td>\n",
       "      <td>1.0</td>\n",
       "      <td>41.823056</td>\n",
       "      <td>110</td>\n",
       "      <td>4.579365</td>\n",
       "      <td>2018-07-24 20:41:37</td>\n",
       "    </tr>\n",
       "    <tr>\n",
       "      <th>2</th>\n",
       "      <td>47770eb9100c2d0c44946d9cf07ec65d</td>\n",
       "      <td>aa4383b373c6aca5d8797843e5594415</td>\n",
       "      <td>4869f7a5dfa277a7dca6462dcf3b52b2</td>\n",
       "      <td>3a653a41f6f9fc3d2a113cf8398680e8</td>\n",
       "      <td>-413.891944</td>\n",
       "      <td>SP</td>\n",
       "      <td>GO</td>\n",
       "      <td>5</td>\n",
       "      <td>159.90</td>\n",
       "      <td>19.22</td>\n",
       "      <td>Mediocre</td>\n",
       "      <td>auto</td>\n",
       "      <td>232.0</td>\n",
       "      <td>1.0</td>\n",
       "      <td>5.186389</td>\n",
       "      <td>1124</td>\n",
       "      <td>4.122822</td>\n",
       "      <td>2018-08-08 08:38:49</td>\n",
       "    </tr>\n",
       "    <tr>\n",
       "      <th>3</th>\n",
       "      <td>949d5b44dbf5de918fe9c16f97b45f8a</td>\n",
       "      <td>d0b61bfb1de832b15ba9d266ca96e5b0</td>\n",
       "      <td>66922902710d126a0e7d26b0e3805106</td>\n",
       "      <td>7c142cf63193a1473d2e66489a9ae977</td>\n",
       "      <td>-311.521667</td>\n",
       "      <td>MG</td>\n",
       "      <td>RN</td>\n",
       "      <td>5</td>\n",
       "      <td>45.00</td>\n",
       "      <td>27.20</td>\n",
       "      <td>Mediocre</td>\n",
       "      <td>pet_shop</td>\n",
       "      <td>468.0</td>\n",
       "      <td>3.0</td>\n",
       "      <td>90.198056</td>\n",
       "      <td>150</td>\n",
       "      <td>4.451613</td>\n",
       "      <td>2017-11-18 19:28:06</td>\n",
       "    </tr>\n",
       "    <tr>\n",
       "      <th>4</th>\n",
       "      <td>ad21c59c0840e6cb83a9ceb5573f8159</td>\n",
       "      <td>65266b2da20d04dbe00c5c2d3bb7859e</td>\n",
       "      <td>2c9e548be18521d1c43cde1c582c6de8</td>\n",
       "      <td>72632f0f9dd73dfee390c9b22eb56dd6</td>\n",
       "      <td>-221.716111</td>\n",
       "      <td>SP</td>\n",
       "      <td>SP</td>\n",
       "      <td>5</td>\n",
       "      <td>19.90</td>\n",
       "      <td>8.72</td>\n",
       "      <td>Mediocre</td>\n",
       "      <td>stationery</td>\n",
       "      <td>316.0</td>\n",
       "      <td>4.0</td>\n",
       "      <td>22.465278</td>\n",
       "      <td>124</td>\n",
       "      <td>3.923977</td>\n",
       "      <td>2018-02-13 21:18:39</td>\n",
       "    </tr>\n",
       "  </tbody>\n",
       "</table>\n",
       "</div>"
      ],
      "text/plain": [
       "                           order_id                        product_id  \\\n",
       "0  e481f51cbdc54678b7cc49136f2d6af7  87285b34884572647811a353c7ac498a   \n",
       "1  53cdb2fc8bc7dce0b6741e2150273451  595fac2a385ac33a80bd5114aec74eb8   \n",
       "2  47770eb9100c2d0c44946d9cf07ec65d  aa4383b373c6aca5d8797843e5594415   \n",
       "3  949d5b44dbf5de918fe9c16f97b45f8a  d0b61bfb1de832b15ba9d266ca96e5b0   \n",
       "4  ad21c59c0840e6cb83a9ceb5573f8159  65266b2da20d04dbe00c5c2d3bb7859e   \n",
       "\n",
       "                          seller_id                customer_unique_id  \\\n",
       "0  3504c0cb71d7fa48d967e0e4c94d59d9  7c396fd4830fd04220f754e42b4e5bff   \n",
       "1  289cdb325fb7e7f891c38608bf9e0962  af07308b275d755c9edb36a90c618231   \n",
       "2  4869f7a5dfa277a7dca6462dcf3b52b2  3a653a41f6f9fc3d2a113cf8398680e8   \n",
       "3  66922902710d126a0e7d26b0e3805106  7c142cf63193a1473d2e66489a9ae977   \n",
       "4  2c9e548be18521d1c43cde1c582c6de8  72632f0f9dd73dfee390c9b22eb56dd6   \n",
       "\n",
       "   delivery_delay_hours seller_state customer_state  review_score   price  \\\n",
       "0           -170.579722           SP             SP             4   29.99   \n",
       "1           -128.537500           SP             BA             4  118.70   \n",
       "2           -413.891944           SP             GO             5  159.90   \n",
       "3           -311.521667           MG             RN             5   45.00   \n",
       "4           -221.716111           SP             SP             5   19.90   \n",
       "\n",
       "   freight_value seller_grade product_category_name_english  \\\n",
       "0           8.72     Mediocre                    housewares   \n",
       "1          22.76     Mediocre                     perfumery   \n",
       "2          19.22     Mediocre                          auto   \n",
       "3          27.20     Mediocre                      pet_shop   \n",
       "4           8.72     Mediocre                    stationery   \n",
       "\n",
       "   product_description_lenght  product_photos_qty  time_to_ship_hours  \\\n",
       "0                       268.0                 4.0           56.974167   \n",
       "1                       178.0                 1.0           41.823056   \n",
       "2                       232.0                 1.0            5.186389   \n",
       "3                       468.0                 3.0           90.198056   \n",
       "4                       316.0                 4.0           22.465278   \n",
       "\n",
       "   purchase_count  avg_review_score order_purchase_timestamp  \n",
       "0              53          4.415094      2017-10-02 10:56:33  \n",
       "1             110          4.579365      2018-07-24 20:41:37  \n",
       "2            1124          4.122822      2018-08-08 08:38:49  \n",
       "3             150          4.451613      2017-11-18 19:28:06  \n",
       "4             124          3.923977      2018-02-13 21:18:39  "
      ]
     },
     "execution_count": 855,
     "metadata": {},
     "output_type": "execute_result"
    }
   ],
   "source": [
    "df.head(5)"
   ]
  },
  {
   "cell_type": "code",
   "execution_count": 856,
   "metadata": {
    "colab": {
     "base_uri": "https://localhost:8080/"
    },
    "executionInfo": {
     "elapsed": 8,
     "status": "ok",
     "timestamp": 1758478847358,
     "user": {
      "displayName": "Prateek Kumar",
      "userId": "08265699435142319276"
     },
     "user_tz": -330
    },
    "id": "qDWFTb_rWMWF",
    "outputId": "633cac0d-8a23-46ce-bb60-1d85a063086d"
   },
   "outputs": [
    {
     "data": {
      "text/plain": [
       "(108449, 18)"
      ]
     },
     "execution_count": 856,
     "metadata": {},
     "output_type": "execute_result"
    }
   ],
   "source": [
    "df.shape"
   ]
  },
  {
   "cell_type": "code",
   "execution_count": 857,
   "metadata": {
    "colab": {
     "base_uri": "https://localhost:8080/",
     "height": 648
    },
    "executionInfo": {
     "elapsed": 99,
     "status": "ok",
     "timestamp": 1758478847554,
     "user": {
      "displayName": "Prateek Kumar",
      "userId": "08265699435142319276"
     },
     "user_tz": -330
    },
    "id": "nWBYFhQDV5hC",
    "outputId": "bf457b86-bf63-4936-e2e8-d53ad7ebac07"
   },
   "outputs": [
    {
     "data": {
      "text/plain": [
       "order_id                         0\n",
       "product_id                       0\n",
       "seller_id                        0\n",
       "customer_unique_id               0\n",
       "delivery_delay_hours             0\n",
       "seller_state                     0\n",
       "customer_state                   0\n",
       "review_score                     0\n",
       "price                            0\n",
       "freight_value                    0\n",
       "seller_grade                     0\n",
       "product_category_name_english    0\n",
       "product_description_lenght       0\n",
       "product_photos_qty               0\n",
       "time_to_ship_hours               0\n",
       "purchase_count                   0\n",
       "avg_review_score                 0\n",
       "order_purchase_timestamp         0\n",
       "dtype: int64"
      ]
     },
     "execution_count": 857,
     "metadata": {},
     "output_type": "execute_result"
    }
   ],
   "source": [
    "df.isnull().sum()"
   ]
  },
  {
   "cell_type": "code",
   "execution_count": 858,
   "metadata": {
    "colab": {
     "base_uri": "https://localhost:8080/",
     "height": 320
    },
    "executionInfo": {
     "elapsed": 118,
     "status": "ok",
     "timestamp": 1758478847674,
     "user": {
      "displayName": "Prateek Kumar",
      "userId": "08265699435142319276"
     },
     "user_tz": -330
    },
    "id": "v6w2vocLWURc",
    "outputId": "75e74aab-a2b2-4bb6-c329-d8bc23777613"
   },
   "outputs": [
    {
     "data": {
      "text/html": [
       "<div>\n",
       "<style scoped>\n",
       "    .dataframe tbody tr th:only-of-type {\n",
       "        vertical-align: middle;\n",
       "    }\n",
       "\n",
       "    .dataframe tbody tr th {\n",
       "        vertical-align: top;\n",
       "    }\n",
       "\n",
       "    .dataframe thead th {\n",
       "        text-align: right;\n",
       "    }\n",
       "</style>\n",
       "<table border=\"1\" class=\"dataframe\">\n",
       "  <thead>\n",
       "    <tr style=\"text-align: right;\">\n",
       "      <th></th>\n",
       "      <th>delivery_delay_hours</th>\n",
       "      <th>review_score</th>\n",
       "      <th>price</th>\n",
       "      <th>freight_value</th>\n",
       "      <th>product_description_lenght</th>\n",
       "      <th>product_photos_qty</th>\n",
       "      <th>time_to_ship_hours</th>\n",
       "      <th>purchase_count</th>\n",
       "      <th>avg_review_score</th>\n",
       "    </tr>\n",
       "  </thead>\n",
       "  <tbody>\n",
       "    <tr>\n",
       "      <th>count</th>\n",
       "      <td>108449.000000</td>\n",
       "      <td>108449.000000</td>\n",
       "      <td>108449.000000</td>\n",
       "      <td>108449.000000</td>\n",
       "      <td>108449.000000</td>\n",
       "      <td>108449.000000</td>\n",
       "      <td>108449.000000</td>\n",
       "      <td>108449.000000</td>\n",
       "      <td>108449.000000</td>\n",
       "    </tr>\n",
       "    <tr>\n",
       "      <th>mean</th>\n",
       "      <td>-273.167892</td>\n",
       "      <td>4.083385</td>\n",
       "      <td>119.791783</td>\n",
       "      <td>19.967151</td>\n",
       "      <td>786.347112</td>\n",
       "      <td>2.207969</td>\n",
       "      <td>78.587116</td>\n",
       "      <td>377.020009</td>\n",
       "      <td>4.045760</td>\n",
       "    </tr>\n",
       "    <tr>\n",
       "      <th>std</th>\n",
       "      <td>242.091773</td>\n",
       "      <td>1.345637</td>\n",
       "      <td>180.491351</td>\n",
       "      <td>15.700173</td>\n",
       "      <td>650.816261</td>\n",
       "      <td>1.719895</td>\n",
       "      <td>86.622575</td>\n",
       "      <td>490.328610</td>\n",
       "      <td>0.370936</td>\n",
       "    </tr>\n",
       "    <tr>\n",
       "      <th>min</th>\n",
       "      <td>-3504.386944</td>\n",
       "      <td>1.000000</td>\n",
       "      <td>0.850000</td>\n",
       "      <td>0.000000</td>\n",
       "      <td>4.000000</td>\n",
       "      <td>1.000000</td>\n",
       "      <td>-4109.098056</td>\n",
       "      <td>1.000000</td>\n",
       "      <td>1.000000</td>\n",
       "    </tr>\n",
       "    <tr>\n",
       "      <th>25%</th>\n",
       "      <td>-391.941944</td>\n",
       "      <td>4.000000</td>\n",
       "      <td>39.900000</td>\n",
       "      <td>13.080000</td>\n",
       "      <td>347.000000</td>\n",
       "      <td>1.000000</td>\n",
       "      <td>27.273889</td>\n",
       "      <td>51.000000</td>\n",
       "      <td>3.880000</td>\n",
       "    </tr>\n",
       "    <tr>\n",
       "      <th>50%</th>\n",
       "      <td>-289.457222</td>\n",
       "      <td>5.000000</td>\n",
       "      <td>74.900000</td>\n",
       "      <td>16.280000</td>\n",
       "      <td>601.000000</td>\n",
       "      <td>1.000000</td>\n",
       "      <td>53.462222</td>\n",
       "      <td>152.000000</td>\n",
       "      <td>4.069575</td>\n",
       "    </tr>\n",
       "    <tr>\n",
       "      <th>75%</th>\n",
       "      <td>-156.294444</td>\n",
       "      <td>5.000000</td>\n",
       "      <td>134.000000</td>\n",
       "      <td>21.150000</td>\n",
       "      <td>985.000000</td>\n",
       "      <td>3.000000</td>\n",
       "      <td>98.654444</td>\n",
       "      <td>477.000000</td>\n",
       "      <td>4.237113</td>\n",
       "    </tr>\n",
       "    <tr>\n",
       "      <th>max</th>\n",
       "      <td>4535.401944</td>\n",
       "      <td>5.000000</td>\n",
       "      <td>6735.000000</td>\n",
       "      <td>409.680000</td>\n",
       "      <td>3992.000000</td>\n",
       "      <td>20.000000</td>\n",
       "      <td>2569.550556</td>\n",
       "      <td>1838.000000</td>\n",
       "      <td>5.000000</td>\n",
       "    </tr>\n",
       "  </tbody>\n",
       "</table>\n",
       "</div>"
      ],
      "text/plain": [
       "       delivery_delay_hours   review_score          price  freight_value  \\\n",
       "count         108449.000000  108449.000000  108449.000000  108449.000000   \n",
       "mean            -273.167892       4.083385     119.791783      19.967151   \n",
       "std              242.091773       1.345637     180.491351      15.700173   \n",
       "min            -3504.386944       1.000000       0.850000       0.000000   \n",
       "25%             -391.941944       4.000000      39.900000      13.080000   \n",
       "50%             -289.457222       5.000000      74.900000      16.280000   \n",
       "75%             -156.294444       5.000000     134.000000      21.150000   \n",
       "max             4535.401944       5.000000    6735.000000     409.680000   \n",
       "\n",
       "       product_description_lenght  product_photos_qty  time_to_ship_hours  \\\n",
       "count               108449.000000       108449.000000       108449.000000   \n",
       "mean                   786.347112            2.207969           78.587116   \n",
       "std                    650.816261            1.719895           86.622575   \n",
       "min                      4.000000            1.000000        -4109.098056   \n",
       "25%                    347.000000            1.000000           27.273889   \n",
       "50%                    601.000000            1.000000           53.462222   \n",
       "75%                    985.000000            3.000000           98.654444   \n",
       "max                   3992.000000           20.000000         2569.550556   \n",
       "\n",
       "       purchase_count  avg_review_score  \n",
       "count   108449.000000     108449.000000  \n",
       "mean       377.020009          4.045760  \n",
       "std        490.328610          0.370936  \n",
       "min          1.000000          1.000000  \n",
       "25%         51.000000          3.880000  \n",
       "50%        152.000000          4.069575  \n",
       "75%        477.000000          4.237113  \n",
       "max       1838.000000          5.000000  "
      ]
     },
     "execution_count": 858,
     "metadata": {},
     "output_type": "execute_result"
    }
   ],
   "source": [
    "df.describe()"
   ]
  },
  {
   "cell_type": "code",
   "execution_count": 859,
   "metadata": {
    "colab": {
     "base_uri": "https://localhost:8080/"
    },
    "executionInfo": {
     "elapsed": 161,
     "status": "ok",
     "timestamp": 1758478847800,
     "user": {
      "displayName": "Prateek Kumar",
      "userId": "08265699435142319276"
     },
     "user_tz": -330
    },
    "id": "vv9oir_lWXSI",
    "outputId": "f7b89ac6-5ccc-48cc-b68f-2628455d7139"
   },
   "outputs": [
    {
     "name": "stdout",
     "output_type": "stream",
     "text": [
      "<class 'pandas.core.frame.DataFrame'>\n",
      "RangeIndex: 108449 entries, 0 to 108448\n",
      "Data columns (total 18 columns):\n",
      " #   Column                         Non-Null Count   Dtype  \n",
      "---  ------                         --------------   -----  \n",
      " 0   order_id                       108449 non-null  object \n",
      " 1   product_id                     108449 non-null  object \n",
      " 2   seller_id                      108449 non-null  object \n",
      " 3   customer_unique_id             108449 non-null  object \n",
      " 4   delivery_delay_hours           108449 non-null  float64\n",
      " 5   seller_state                   108449 non-null  object \n",
      " 6   customer_state                 108449 non-null  object \n",
      " 7   review_score                   108449 non-null  int64  \n",
      " 8   price                          108449 non-null  float64\n",
      " 9   freight_value                  108449 non-null  float64\n",
      " 10  seller_grade                   108449 non-null  object \n",
      " 11  product_category_name_english  108449 non-null  object \n",
      " 12  product_description_lenght     108449 non-null  float64\n",
      " 13  product_photos_qty             108449 non-null  float64\n",
      " 14  time_to_ship_hours             108449 non-null  float64\n",
      " 15  purchase_count                 108449 non-null  int64  \n",
      " 16  avg_review_score               108449 non-null  float64\n",
      " 17  order_purchase_timestamp       108449 non-null  object \n",
      "dtypes: float64(7), int64(2), object(9)\n",
      "memory usage: 14.9+ MB\n"
     ]
    }
   ],
   "source": [
    "df.info()"
   ]
  },
  {
   "cell_type": "code",
   "execution_count": 860,
   "metadata": {},
   "outputs": [],
   "source": [
    "# Removing columns that are unique IDs and not useful for training\n",
    "df.drop(['order_id','product_id','seller_id','customer_unique_id'], axis=1, inplace=True)"
   ]
  },
  {
   "cell_type": "code",
   "execution_count": 861,
   "metadata": {},
   "outputs": [],
   "source": [
    "#Dropping product_description_length, product_photos_qty,seller_state,customer_state\n",
    "df.drop(['product_description_lenght','product_photos_qty','seller_state','customer_state'], axis=1, inplace=True)"
   ]
  },
  {
   "cell_type": "code",
   "execution_count": 862,
   "metadata": {
    "colab": {
     "base_uri": "https://localhost:8080/",
     "height": 460
    },
    "executionInfo": {
     "elapsed": 116,
     "status": "ok",
     "timestamp": 1758478848174,
     "user": {
      "displayName": "Prateek Kumar",
      "userId": "08265699435142319276"
     },
     "user_tz": -330
    },
    "id": "yUax0XOCZNFX",
    "outputId": "53e5d0e6-d91c-4cb6-b3d4-a805a0e7af96"
   },
   "outputs": [
    {
     "data": {
      "text/plain": [
       "delivery_delay_hours             90071\n",
       "review_score                         5\n",
       "price                             5774\n",
       "freight_value                     6880\n",
       "seller_grade                         3\n",
       "product_category_name_english       71\n",
       "time_to_ship_hours               85737\n",
       "purchase_count                     244\n",
       "avg_review_score                   806\n",
       "order_purchase_timestamp         93983\n",
       "dtype: int64"
      ]
     },
     "execution_count": 862,
     "metadata": {},
     "output_type": "execute_result"
    }
   ],
   "source": [
    "df.nunique()"
   ]
  },
  {
   "cell_type": "code",
   "execution_count": 863,
   "metadata": {
    "colab": {
     "base_uri": "https://localhost:8080/"
    },
    "executionInfo": {
     "elapsed": 55,
     "status": "ok",
     "timestamp": 1758478847825,
     "user": {
      "displayName": "Prateek Kumar",
      "userId": "08265699435142319276"
     },
     "user_tz": -330
    },
    "id": "zzMJ-OEoYtEM",
    "outputId": "f9ca5fa2-0aaa-4385-985d-7b85314188a3"
   },
   "outputs": [
    {
     "data": {
      "text/plain": [
       "(108449, 10)"
      ]
     },
     "execution_count": 863,
     "metadata": {},
     "output_type": "execute_result"
    }
   ],
   "source": [
    "df.shape"
   ]
  },
  {
   "cell_type": "code",
   "execution_count": 864,
   "metadata": {},
   "outputs": [
    {
     "name": "stdout",
     "output_type": "stream",
     "text": [
      "<class 'pandas.core.frame.DataFrame'>\n",
      "RangeIndex: 108449 entries, 0 to 108448\n",
      "Data columns (total 10 columns):\n",
      " #   Column                         Non-Null Count   Dtype  \n",
      "---  ------                         --------------   -----  \n",
      " 0   delivery_delay_hours           108449 non-null  float64\n",
      " 1   review_score                   108449 non-null  int64  \n",
      " 2   price                          108449 non-null  float64\n",
      " 3   freight_value                  108449 non-null  float64\n",
      " 4   seller_grade                   108449 non-null  object \n",
      " 5   product_category_name_english  108449 non-null  object \n",
      " 6   time_to_ship_hours             108449 non-null  float64\n",
      " 7   purchase_count                 108449 non-null  int64  \n",
      " 8   avg_review_score               108449 non-null  float64\n",
      " 9   order_purchase_timestamp       108449 non-null  object \n",
      "dtypes: float64(5), int64(2), object(3)\n",
      "memory usage: 8.3+ MB\n"
     ]
    }
   ],
   "source": [
    "df.info()"
   ]
  },
  {
   "cell_type": "markdown",
   "metadata": {
    "jp-MarkdownHeadingCollapsed": true
   },
   "source": [
    "# Train-Test split"
   ]
  },
  {
   "cell_type": "code",
   "execution_count": 865,
   "metadata": {},
   "outputs": [],
   "source": [
    "train_df, test_df = train_test_split(df, test_size=0.2, random_state=16501)"
   ]
  },
  {
   "cell_type": "code",
   "execution_count": 866,
   "metadata": {},
   "outputs": [],
   "source": [
    "X_train = train_df.drop(columns=['price'])"
   ]
  },
  {
   "cell_type": "code",
   "execution_count": 867,
   "metadata": {},
   "outputs": [],
   "source": [
    "y_train = train_df['price']"
   ]
  },
  {
   "cell_type": "code",
   "execution_count": 868,
   "metadata": {},
   "outputs": [
    {
     "name": "stdout",
     "output_type": "stream",
     "text": [
      "(86759, 9)\n",
      "(86759,)\n"
     ]
    }
   ],
   "source": [
    "print(X_train.shape)\n",
    "print(y_train.shape)"
   ]
  },
  {
   "cell_type": "code",
   "execution_count": 869,
   "metadata": {},
   "outputs": [],
   "source": [
    "X_test = test_df.drop(columns=['price'])"
   ]
  },
  {
   "cell_type": "code",
   "execution_count": 870,
   "metadata": {},
   "outputs": [],
   "source": [
    "y_test = test_df['price']"
   ]
  },
  {
   "cell_type": "code",
   "execution_count": 871,
   "metadata": {},
   "outputs": [
    {
     "name": "stdout",
     "output_type": "stream",
     "text": [
      "(21690, 9)\n",
      "(21690,)\n"
     ]
    }
   ],
   "source": [
    "print(X_test.shape)\n",
    "print(y_test.shape)"
   ]
  },
  {
   "cell_type": "markdown",
   "metadata": {},
   "source": [
    "# Working on each Column (for train-split)"
   ]
  },
  {
   "cell_type": "markdown",
   "metadata": {
    "jp-MarkdownHeadingCollapsed": true
   },
   "source": [
    "## Price(train-split(target))"
   ]
  },
  {
   "cell_type": "code",
   "execution_count": 872,
   "metadata": {},
   "outputs": [
    {
     "data": {
      "text/plain": [
       "861       119.99\n",
       "44915      79.49\n",
       "26798     116.00\n",
       "104303    249.99\n",
       "58404      49.95\n",
       "Name: price, dtype: float64"
      ]
     },
     "execution_count": 872,
     "metadata": {},
     "output_type": "execute_result"
    }
   ],
   "source": [
    "y_train.head()"
   ]
  },
  {
   "cell_type": "code",
   "execution_count": 873,
   "metadata": {},
   "outputs": [
    {
     "data": {
      "text/plain": [
       "count    86759.000000\n",
       "mean       119.999669\n",
       "std        181.629718\n",
       "min          0.850000\n",
       "25%         39.900000\n",
       "50%         74.900000\n",
       "75%        134.900000\n",
       "max       6735.000000\n",
       "Name: price, dtype: float64"
      ]
     },
     "execution_count": 873,
     "metadata": {},
     "output_type": "execute_result"
    }
   ],
   "source": [
    "y_train.describe()\n"
   ]
  },
  {
   "cell_type": "code",
   "execution_count": 874,
   "metadata": {},
   "outputs": [
    {
     "data": {
      "text/plain": [
       "<Axes: >"
      ]
     },
     "execution_count": 874,
     "metadata": {},
     "output_type": "execute_result"
    },
    {
     "data": {
      "image/png": "[encoded data removed]",
      "text/plain": [
       "<Figure size 640x480 with 1 Axes>"
      ]
     },
     "metadata": {},
     "output_type": "display_data"
    }
   ],
   "source": [
    "y_train.hist(bins=50)"
   ]
  },
  {
   "cell_type": "markdown",
   "metadata": {},
   "source": [
    "We will be building ensemble regression models. so we dont need to logTransform/normalize the price column."
   ]
  },
  {
   "cell_type": "markdown",
   "metadata": {
    "jp-MarkdownHeadingCollapsed": true
   },
   "source": [
    "## Delivery_delay_hours(train-split)"
   ]
  },
  {
   "cell_type": "code",
   "execution_count": 875,
   "metadata": {},
   "outputs": [
    {
     "data": {
      "text/plain": [
       "(86759, 9)"
      ]
     },
     "execution_count": 875,
     "metadata": {},
     "output_type": "execute_result"
    }
   ],
   "source": [
    "X_train.shape"
   ]
  },
  {
   "cell_type": "code",
   "execution_count": 876,
   "metadata": {},
   "outputs": [
    {
     "data": {
      "text/plain": [
       "861      -409.934722\n",
       "44915     -28.242222\n",
       "26798    -191.249722\n",
       "104303    -97.724722\n",
       "58404    -461.919722\n",
       "Name: delivery_delay_hours, dtype: float64"
      ]
     },
     "execution_count": 876,
     "metadata": {},
     "output_type": "execute_result"
    }
   ],
   "source": [
    "X_train['delivery_delay_hours'].head()"
   ]
  },
  {
   "cell_type": "code",
   "execution_count": 877,
   "metadata": {},
   "outputs": [
    {
     "data": {
      "image/png": "[encoded data removed]",
      "text/plain": [
       "<Figure size 640x480 with 1 Axes>"
      ]
     },
     "metadata": {},
     "output_type": "display_data"
    }
   ],
   "source": [
    "sns.boxplot(X_train['delivery_delay_hours'])\n",
    "plt.show()"
   ]
  },
  {
   "cell_type": "markdown",
   "metadata": {},
   "source": [
    "#### As the data points are extremly skewed and also have lots of negative values, we cannot apply box-cox"
   ]
  },
  {
   "cell_type": "markdown",
   "metadata": {},
   "source": [
    "#### Finding percentile values and applying it and making categories based on percentiles"
   ]
  },
  {
   "cell_type": "code",
   "execution_count": 878,
   "metadata": {},
   "outputs": [
    {
     "name": "stdout",
     "output_type": "stream",
     "text": [
      "0.05   -627.966333\n",
      "0.25   -391.854028\n",
      "0.50   -289.438333\n",
      "0.75   -156.798611\n",
      "0.95     84.991083\n",
      "Name: delivery_delay_hours, dtype: float64\n"
     ]
    }
   ],
   "source": [
    "#finding percentile values\n",
    "percentiles = X_train['delivery_delay_hours'].quantile([0.05, 0.25, 0.5, 0.75, 0.95])\n",
    "print(percentiles)"
   ]
  },
  {
   "cell_type": "code",
   "execution_count": 879,
   "metadata": {},
   "outputs": [
    {
     "name": "stdout",
     "output_type": "stream",
     "text": [
      "delay_category\n",
      "Early         43379\n",
      "Very Early    21690\n",
      "Late          10771\n",
      "On Time        6581\n",
      "Very Late      4338\n",
      "Name: count, dtype: int64\n"
     ]
    }
   ],
   "source": [
    "# Compute quantiles\n",
    "q25 = X_train['delivery_delay_hours'].quantile(0.25)\n",
    "q50 = X_train['delivery_delay_hours'].quantile(0.50)\n",
    "q75 = X_train['delivery_delay_hours'].quantile(0.75)\n",
    "q95 = X_train['delivery_delay_hours'].quantile(0.95)\n",
    "\n",
    "# Function with fixed ±3 days window for \"On Time\"\n",
    "def categorize_delay(x):\n",
    "    if -72 <= x <= 72:  # strictly define \"On Time\"\n",
    "        return 'On Time'\n",
    "    elif x <= q25:\n",
    "        return 'Very Early'\n",
    "    elif q25 < x <= q50:\n",
    "        return 'Early'\n",
    "    elif q50 < x <= q75:\n",
    "        return 'Early'\n",
    "    elif q75 < x <= q95:\n",
    "        return 'Late'\n",
    "    else:\n",
    "        return 'Very Late'\n",
    "\n",
    "# Apply function\n",
    "X_train['delay_category'] = X_train['delivery_delay_hours'].apply(categorize_delay)\n",
    "\n",
    "# Check results\n",
    "print(X_train['delay_category'].value_counts())\n"
   ]
  },
  {
   "cell_type": "code",
   "execution_count": 880,
   "metadata": {},
   "outputs": [],
   "source": [
    "#dropping original delivery_delay_hours\n",
    "X_train.drop(['delivery_delay_hours'],axis = 1, inplace = True)"
   ]
  },
  {
   "cell_type": "markdown",
   "metadata": {},
   "source": [
    "##### Need to do one hot encoding"
   ]
  },
  {
   "cell_type": "code",
   "execution_count": 881,
   "metadata": {},
   "outputs": [
    {
     "data": {
      "text/plain": [
       "delay_category\n",
       "Early         43379\n",
       "Very Early    21690\n",
       "Late          10771\n",
       "On Time        6581\n",
       "Very Late      4338\n",
       "Name: count, dtype: int64"
      ]
     },
     "execution_count": 881,
     "metadata": {},
     "output_type": "execute_result"
    }
   ],
   "source": [
    "X_train['delay_category'].value_counts()"
   ]
  },
  {
   "cell_type": "code",
   "execution_count": 882,
   "metadata": {},
   "outputs": [
    {
     "data": {
      "text/plain": [
       "(86759, 9)"
      ]
     },
     "execution_count": 882,
     "metadata": {},
     "output_type": "execute_result"
    }
   ],
   "source": [
    "X_train.shape"
   ]
  },
  {
   "cell_type": "code",
   "execution_count": 883,
   "metadata": {},
   "outputs": [
    {
     "name": "stdout",
     "output_type": "stream",
     "text": [
      "<class 'pandas.core.frame.DataFrame'>\n",
      "Index: 86759 entries, 861 to 71631\n",
      "Data columns (total 9 columns):\n",
      " #   Column                         Non-Null Count  Dtype  \n",
      "---  ------                         --------------  -----  \n",
      " 0   review_score                   86759 non-null  int64  \n",
      " 1   freight_value                  86759 non-null  float64\n",
      " 2   seller_grade                   86759 non-null  object \n",
      " 3   product_category_name_english  86759 non-null  object \n",
      " 4   time_to_ship_hours             86759 non-null  float64\n",
      " 5   purchase_count                 86759 non-null  int64  \n",
      " 6   avg_review_score               86759 non-null  float64\n",
      " 7   order_purchase_timestamp       86759 non-null  object \n",
      " 8   delay_category                 86759 non-null  object \n",
      "dtypes: float64(3), int64(2), object(4)\n",
      "memory usage: 6.6+ MB\n"
     ]
    }
   ],
   "source": [
    "X_train.info()"
   ]
  },
  {
   "cell_type": "markdown",
   "metadata": {
    "jp-MarkdownHeadingCollapsed": true
   },
   "source": [
    "## Review Score(train-split)"
   ]
  },
  {
   "cell_type": "code",
   "execution_count": 884,
   "metadata": {},
   "outputs": [
    {
     "data": {
      "text/plain": [
       "(86759, 9)"
      ]
     },
     "execution_count": 884,
     "metadata": {},
     "output_type": "execute_result"
    }
   ],
   "source": [
    "X_train.shape"
   ]
  },
  {
   "cell_type": "code",
   "execution_count": 885,
   "metadata": {},
   "outputs": [
    {
     "data": {
      "text/plain": [
       "review_score\n",
       "5    49994\n",
       "4    16631\n",
       "1     9898\n",
       "3     7335\n",
       "2     2901\n",
       "Name: count, dtype: int64"
      ]
     },
     "execution_count": 885,
     "metadata": {},
     "output_type": "execute_result"
    }
   ],
   "source": [
    "X_train['review_score'].value_counts()"
   ]
  },
  {
   "cell_type": "markdown",
   "metadata": {},
   "source": [
    "As the review_score column is a bit skewed towards '5' and '4', we will apply class_weights during model training"
   ]
  },
  {
   "cell_type": "markdown",
   "metadata": {
    "jp-MarkdownHeadingCollapsed": true
   },
   "source": [
    "## freight_value(train-split)"
   ]
  },
  {
   "cell_type": "code",
   "execution_count": 886,
   "metadata": {},
   "outputs": [
    {
     "data": {
      "text/plain": [
       "count    86759.000000\n",
       "mean        19.993846\n",
       "std         15.661498\n",
       "min          0.000000\n",
       "25%         13.080000\n",
       "50%         16.310000\n",
       "75%         21.150000\n",
       "max        375.280000\n",
       "Name: freight_value, dtype: float64"
      ]
     },
     "execution_count": 886,
     "metadata": {},
     "output_type": "execute_result"
    }
   ],
   "source": [
    "X_train['freight_value'].describe()"
   ]
  },
  {
   "cell_type": "code",
   "execution_count": 887,
   "metadata": {},
   "outputs": [
    {
     "data": {
      "text/plain": [
       "<Axes: >"
      ]
     },
     "execution_count": 887,
     "metadata": {},
     "output_type": "execute_result"
    },
    {
     "data": {
      "image/png": "[encoded data removed]",
      "text/plain": [
       "<Figure size 640x480 with 1 Axes>"
      ]
     },
     "metadata": {},
     "output_type": "display_data"
    }
   ],
   "source": [
    "X_train['freight_value'].hist(bins=50)"
   ]
  },
  {
   "cell_type": "code",
   "execution_count": 888,
   "metadata": {},
   "outputs": [
    {
     "data": {
      "text/html": [
       "<div>\n",
       "<style scoped>\n",
       "    .dataframe tbody tr th:only-of-type {\n",
       "        vertical-align: middle;\n",
       "    }\n",
       "\n",
       "    .dataframe tbody tr th {\n",
       "        vertical-align: top;\n",
       "    }\n",
       "\n",
       "    .dataframe thead th {\n",
       "        text-align: right;\n",
       "    }\n",
       "</style>\n",
       "<table border=\"1\" class=\"dataframe\">\n",
       "  <thead>\n",
       "    <tr style=\"text-align: right;\">\n",
       "      <th></th>\n",
       "      <th>price</th>\n",
       "      <th>freight_value</th>\n",
       "    </tr>\n",
       "  </thead>\n",
       "  <tbody>\n",
       "    <tr>\n",
       "      <th>price</th>\n",
       "      <td>1.000000</td>\n",
       "      <td>0.411111</td>\n",
       "    </tr>\n",
       "    <tr>\n",
       "      <th>freight_value</th>\n",
       "      <td>0.411111</td>\n",
       "      <td>1.000000</td>\n",
       "    </tr>\n",
       "  </tbody>\n",
       "</table>\n",
       "</div>"
      ],
      "text/plain": [
       "                  price  freight_value\n",
       "price          1.000000       0.411111\n",
       "freight_value  0.411111       1.000000"
      ]
     },
     "execution_count": 888,
     "metadata": {},
     "output_type": "execute_result"
    }
   ],
   "source": [
    "# Combine X_train and y_train to compute correlation\n",
    "train_corr_df = X_train.copy()\n",
    "train_corr_df['price'] = y_train\n",
    "\n",
    "train_corr_df[['price', 'freight_value']].corr()\n"
   ]
  },
  {
   "cell_type": "markdown",
   "metadata": {},
   "source": [
    "The freight_value and price columns are not too highly correlated which is good"
   ]
  },
  {
   "cell_type": "markdown",
   "metadata": {},
   "source": [
    "#### log transforming the freight_values column to handle skewness"
   ]
  },
  {
   "cell_type": "code",
   "execution_count": 889,
   "metadata": {},
   "outputs": [],
   "source": [
    "X_train['freight_value_log'] = np.log1p(X_train['freight_value'])"
   ]
  },
  {
   "cell_type": "code",
   "execution_count": 890,
   "metadata": {},
   "outputs": [],
   "source": [
    "X_train.drop(['freight_value'],axis = 1,inplace = True)"
   ]
  },
  {
   "cell_type": "code",
   "execution_count": 891,
   "metadata": {},
   "outputs": [
    {
     "name": "stdout",
     "output_type": "stream",
     "text": [
      "<class 'pandas.core.frame.DataFrame'>\n",
      "Index: 86759 entries, 861 to 71631\n",
      "Data columns (total 9 columns):\n",
      " #   Column                         Non-Null Count  Dtype  \n",
      "---  ------                         --------------  -----  \n",
      " 0   review_score                   86759 non-null  int64  \n",
      " 1   seller_grade                   86759 non-null  object \n",
      " 2   product_category_name_english  86759 non-null  object \n",
      " 3   time_to_ship_hours             86759 non-null  float64\n",
      " 4   purchase_count                 86759 non-null  int64  \n",
      " 5   avg_review_score               86759 non-null  float64\n",
      " 6   order_purchase_timestamp       86759 non-null  object \n",
      " 7   delay_category                 86759 non-null  object \n",
      " 8   freight_value_log              86759 non-null  float64\n",
      "dtypes: float64(3), int64(2), object(4)\n",
      "memory usage: 6.6+ MB\n"
     ]
    }
   ],
   "source": [
    "X_train.info()"
   ]
  },
  {
   "cell_type": "markdown",
   "metadata": {
    "jp-MarkdownHeadingCollapsed": true
   },
   "source": [
    "## Seller_grade(train-split)"
   ]
  },
  {
   "cell_type": "code",
   "execution_count": 892,
   "metadata": {},
   "outputs": [
    {
     "data": {
      "text/plain": [
       "seller_grade\n",
       "Mediocre    70323\n",
       "Bad         13421\n",
       "Super        3015\n",
       "Name: count, dtype: int64"
      ]
     },
     "execution_count": 892,
     "metadata": {},
     "output_type": "execute_result"
    }
   ],
   "source": [
    "X_train['seller_grade'].value_counts()"
   ]
  },
  {
   "cell_type": "markdown",
   "metadata": {},
   "source": [
    "#### Will do one label encoding on seller_grade column"
   ]
  },
  {
   "cell_type": "code",
   "execution_count": 893,
   "metadata": {},
   "outputs": [],
   "source": [
    "label_map = {'Bad': 0,'Mediocre': 1,'Super': 2}"
   ]
  },
  {
   "cell_type": "code",
   "execution_count": 894,
   "metadata": {},
   "outputs": [
    {
     "name": "stderr",
     "output_type": "stream",
     "text": [
      "C:\\Users\\shubu\\AppData\\Local\\Temp\\ipykernel_21240\\1308378079.py:1: FutureWarning: Downcasting behavior in `replace` is deprecated and will be removed in a future version. To retain the old behavior, explicitly call `result.infer_objects(copy=False)`. To opt-in to the future behavior, set `pd.set_option('future.no_silent_downcasting', True)`\n",
      "  X_train['seller_grade'] = X_train['seller_grade'].replace(label_map).astype(int)\n"
     ]
    }
   ],
   "source": [
    "X_train['seller_grade'] = X_train['seller_grade'].replace(label_map).astype(int)"
   ]
  },
  {
   "cell_type": "code",
   "execution_count": 895,
   "metadata": {},
   "outputs": [
    {
     "name": "stdout",
     "output_type": "stream",
     "text": [
      "<class 'pandas.core.frame.DataFrame'>\n",
      "Index: 86759 entries, 861 to 71631\n",
      "Data columns (total 9 columns):\n",
      " #   Column                         Non-Null Count  Dtype  \n",
      "---  ------                         --------------  -----  \n",
      " 0   review_score                   86759 non-null  int64  \n",
      " 1   seller_grade                   86759 non-null  int64  \n",
      " 2   product_category_name_english  86759 non-null  object \n",
      " 3   time_to_ship_hours             86759 non-null  float64\n",
      " 4   purchase_count                 86759 non-null  int64  \n",
      " 5   avg_review_score               86759 non-null  float64\n",
      " 6   order_purchase_timestamp       86759 non-null  object \n",
      " 7   delay_category                 86759 non-null  object \n",
      " 8   freight_value_log              86759 non-null  float64\n",
      "dtypes: float64(3), int64(3), object(3)\n",
      "memory usage: 6.6+ MB\n"
     ]
    }
   ],
   "source": [
    "X_train.info()"
   ]
  },
  {
   "cell_type": "markdown",
   "metadata": {},
   "source": [
    "## product_category_name_english(train-split)"
   ]
  },
  {
   "cell_type": "code",
   "execution_count": 896,
   "metadata": {},
   "outputs": [
    {
     "data": {
      "text/plain": [
       "count              86759\n",
       "unique                71\n",
       "top       bed_bath_table\n",
       "freq                8747\n",
       "Name: product_category_name_english, dtype: object"
      ]
     },
     "execution_count": 896,
     "metadata": {},
     "output_type": "execute_result"
    }
   ],
   "source": [
    "X_train['product_category_name_english'].describe()"
   ]
  },
  {
   "cell_type": "code",
   "execution_count": 897,
   "metadata": {
    "scrolled": true
   },
   "outputs": [
    {
     "name": "stdout",
     "output_type": "stream",
     "text": [
      "product_category_name_english\n",
      "bed_bath_table                             8747\n",
      "health_beauty                              7573\n",
      "sports_leisure                             6742\n",
      "furniture_decor                            6534\n",
      "computers_accessories                      6168\n",
      "housewares                                 5428\n",
      "watches_gifts                              4645\n",
      "telephony                                  3502\n",
      "garden_tools                               3416\n",
      "auto                                       3285\n",
      "toys                                       3175\n",
      "cool_stuff                                 2953\n",
      "perfumery                                  2656\n",
      "baby                                       2366\n",
      "electronics                                2199\n",
      "stationery                                 1976\n",
      "fashion_bags_accessories                   1607\n",
      "pet_shop                                   1527\n",
      "office_furniture                           1330\n",
      "luggage_accessories                         857\n",
      "consoles_games                              850\n",
      "construction_tools_construction             722\n",
      "home_appliances                             645\n",
      "small_appliances                            514\n",
      "musical_instruments                         508\n",
      "home_construction                           495\n",
      "books_general_interest                      435\n",
      "furniture_living_room                       405\n",
      "food                                        390\n",
      "home_confort                                352\n",
      "drinks                                      304\n",
      "audio                                       283\n",
      "market_place                                240\n",
      "construction_tools_lights                   235\n",
      "air_conditioning                            232\n",
      "food_drink                                  220\n",
      "fashion_shoes                               218\n",
      "kitchen_dining_laundry_garden_furniture     217\n",
      "books_technical                             216\n",
      "industry_commerce_and_business              206\n",
      "fixed_telephony                             205\n",
      "costruction_tools_garden                    191\n",
      "home_appliances_2                           188\n",
      "agro_industry_and_commerce                  164\n",
      "signaling_and_security                      159\n",
      "construction_tools_safety                   150\n",
      "art                                         148\n",
      "computers                                   148\n",
      "christmas_supplies                          121\n",
      "fashion_male_clothing                        98\n",
      "fashion_underwear_beach                      98\n",
      "furniture_bedroom                            85\n",
      "costruction_tools_tools                      81\n",
      "tablets_printing_image                       63\n",
      "cine_photo                                   57\n",
      "small_appliances_home_oven_and_coffee        57\n",
      "dvds_blu_ray                                 48\n",
      "books_imported                               44\n",
      "party_supplies                               36\n",
      "fashio_female_clothing                       34\n",
      "diapers_and_hygiene                          33\n",
      "music                                        30\n",
      "furniture_mattress_and_upholstery            30\n",
      "flowers                                      25\n",
      "fashion_sport                                24\n",
      "home_comfort_2                               24\n",
      "arts_and_craftmanship                        19\n",
      "cds_dvds_musicals                            10\n",
      "la_cuisine                                    9\n",
      "fashion_childrens_clothes                     5\n",
      "security_and_services                         2\n",
      "Name: count, dtype: int64\n"
     ]
    }
   ],
   "source": [
    "with pd.option_context('display.max_rows', None, 'display.max_columns', None):\n",
    "    print(X_train['product_category_name_english'].value_counts())"
   ]
  },
  {
   "cell_type": "markdown",
   "metadata": {},
   "source": [
    "#### As there are 71 unique groups, we can merge similar types of groups into 1 groups"
   ]
  },
  {
   "cell_type": "markdown",
   "metadata": {},
   "source": [
    "##### Product Category Group Mapping\n",
    "\n",
    "The original product_category_name_english column (71 categories) has been grouped into 13 meaningful categories for easier modeling:\n",
    "\n",
    "| New Category Name              | Merged Original Categories |\n",
    "|--------------------------------|---------------------------|\n",
    "| **Home & Furniture**           | bed_bath_table, furniture_decor, office_furniture, furniture_living_room, furniture_bedroom, home_confort, home_comfort_2, kitchen_dining_laundry_garden_furniture, home_appliances, home_appliances_2, small_appliances, small_appliances_home_oven_and_coffee, home_construction, air_conditioning, construction_tools_construction, construction_tools_lights, construction_tools_safety, costruction_tools_garden, costruction_tools_tools |\n",
    "| **Health & Beauty**             | health_beauty, perfumery, fashion_underwear_beach |\n",
    "| **Sports & Leisure**            | sports_leisure, fashion_sport, musical_instruments, cine_photo, audio, dvds_blu_ray, music,cds_dvds_musicals |\n",
    "| **Electronics & Computers**     | computers_accessories, electronics, computers, telephony, fixed_telephony, tablets_printing_image, consoles_games |\n",
    "| **Baby & Kids**                 | baby, diapers_and_hygiene, fashion_childrens_clothes |\n",
    "| **Fashion & Accessories**       | fashion_bags_accessories, fashion_shoes, fashion_male_clothing, fashio_female_clothing, watches_gifts |\n",
    "| **Sports / Outdoors / Garden**  | garden_tools, auto, market_place |\n",
    "| **Books**                        | books_general_interest, books_technical, books_imported |\n",
    "| **Food & Drink**                 | food, food_drink, drinks, la_cuisine |\n",
    "| **Pet & Animals**                | pet_shop |\n",
    "| **Party & Seasonal**             | christmas_supplies, party_supplies |\n",
    "| **Arts & Crafts**                | arts_and_craftmanship, art, flowers |\n",
    "| **Misc / Other**                 | cool_stuff, security_and_services, luggage_accessories |\n"
   ]
  },
  {
   "cell_type": "code",
   "execution_count": 898,
   "metadata": {},
   "outputs": [],
   "source": [
    "group_mapping = {}\n",
    "\n",
    "# Home & Furniture\n",
    "home_furniture = [\n",
    "    'bed_bath_table', 'furniture_decor', 'office_furniture', 'furniture_living_room',\n",
    "    'furniture_bedroom', 'home_confort', 'home_comfort_2', 'kitchen_dining_laundry_garden_furniture',\n",
    "    'home_appliances', 'home_appliances_2', 'small_appliances', 'small_appliances_home_oven_and_coffee',\n",
    "    'home_construction', 'air_conditioning', 'construction_tools_construction', 'construction_tools_lights',\n",
    "    'construction_tools_safety', 'costruction_tools_garden', 'costruction_tools_tools',\n",
    "    'housewares', 'furniture_mattress_and_upholstery','cds_dvds_musicals'\n",
    "]\n",
    "for i in home_furniture:\n",
    "    group_mapping[i] = 'Home & Furniture'\n",
    "\n",
    "# Health & Beauty\n",
    "health_beauty = ['health_beauty', 'perfumery', 'fashion_underwear_beach']\n",
    "for i in health_beauty:\n",
    "    group_mapping[i] = 'Health & Beauty'\n",
    "\n",
    "# Sports & Leisure\n",
    "sports_leisure = ['sports_leisure', 'fashion_sport', 'musical_instruments', 'cine_photo', 'audio', 'dvds_blu_ray', 'music', 'toys']\n",
    "for i in sports_leisure:\n",
    "    group_mapping[i] = 'Sports & Leisure'\n",
    "\n",
    "# Electronics & Computers\n",
    "electronics_computers = ['computers_accessories', 'electronics', 'computers', 'telephony', 'fixed_telephony', 'tablets_printing_image', 'consoles_games']\n",
    "for i in electronics_computers:\n",
    "    group_mapping[i] = 'Electronics & Computers'\n",
    "\n",
    "# Baby & Kids\n",
    "baby_kids = ['baby', 'diapers_and_hygiene', 'fashion_childrens_clothes']\n",
    "for i in baby_kids:\n",
    "    group_mapping[i] = 'Baby & Kids'\n",
    "\n",
    "# Fashion & Accessories\n",
    "fashion_accessories = ['fashion_bags_accessories', 'fashion_shoes', 'fashion_male_clothing', 'fashio_female_clothing', 'watches_gifts']\n",
    "for i in fashion_accessories:\n",
    "    group_mapping[i] = 'Fashion & Accessories'\n",
    "\n",
    "# Sports / Outdoors / Garden\n",
    "sports_outdoors_garden = ['garden_tools', 'auto', 'market_place']\n",
    "for i in sports_outdoors_garden:\n",
    "    group_mapping[i] = 'Sports / Outdoors / Garden'\n",
    "\n",
    "# Books\n",
    "books = ['books_general_interest', 'books_technical', 'books_imported', 'stationery']\n",
    "for i in books:\n",
    "    group_mapping[i] = 'Books'\n",
    "\n",
    "# Food & Drink\n",
    "food_drink = ['food', 'food_drink', 'drinks', 'la_cuisine']\n",
    "for i in food_drink:\n",
    "    group_mapping[i] = 'Food & Drink'\n",
    "\n",
    "# Pet & Animals\n",
    "pet_animals = ['pet_shop']\n",
    "for i in pet_animals:\n",
    "    group_mapping[i] = 'Pet & Animals'\n",
    "\n",
    "# Party & Seasonal\n",
    "party_seasonal = ['christmas_supplies', 'party_supplies']\n",
    "for i in party_seasonal:\n",
    "    group_mapping[i] = 'Party & Seasonal'\n",
    "\n",
    "# Arts & Crafts\n",
    "arts_crafts = ['arts_and_craftmanship', 'art', 'flowers']\n",
    "for i in arts_crafts:\n",
    "    group_mapping[i] = 'Arts & Crafts'\n",
    "\n",
    "# Misc / Other\n",
    "misc_other = ['cool_stuff', 'security_and_services', 'luggage_accessories', 'industry_commerce_and_business', 'agro_industry_and_commerce', 'signaling_and_security']\n",
    "for i in misc_other:\n",
    "    group_mapping[i] = 'Misc / Other'\n"
   ]
  },
  {
   "cell_type": "code",
   "execution_count": 899,
   "metadata": {},
   "outputs": [],
   "source": [
    "# Apply mapping\n",
    "X_train['product_category_grouped'] = X_train['product_category_name_english'].map(group_mapping)"
   ]
  },
  {
   "cell_type": "code",
   "execution_count": 900,
   "metadata": {},
   "outputs": [
    {
     "data": {
      "text/plain": [
       "product_category_grouped\n",
       "Home & Furniture              26672\n",
       "Electronics & Computers       13135\n",
       "Sports & Leisure              10867\n",
       "Health & Beauty               10327\n",
       "Sports / Outdoors / Garden     6941\n",
       "Fashion & Accessories          6602\n",
       "Misc / Other                   4341\n",
       "Books                          2671\n",
       "Baby & Kids                    2404\n",
       "Pet & Animals                  1527\n",
       "Food & Drink                    923\n",
       "Arts & Crafts                   192\n",
       "Party & Seasonal                157\n",
       "Name: count, dtype: int64"
      ]
     },
     "execution_count": 900,
     "metadata": {},
     "output_type": "execute_result"
    }
   ],
   "source": [
    "X_train['product_category_grouped'].value_counts()"
   ]
  },
  {
   "cell_type": "code",
   "execution_count": 901,
   "metadata": {},
   "outputs": [],
   "source": [
    "X_train.drop(['product_category_name_english'],axis = 1,inplace = True)"
   ]
  },
  {
   "cell_type": "code",
   "execution_count": 902,
   "metadata": {},
   "outputs": [
    {
     "data": {
      "text/plain": [
       "review_score                0\n",
       "seller_grade                0\n",
       "time_to_ship_hours          0\n",
       "purchase_count              0\n",
       "avg_review_score            0\n",
       "order_purchase_timestamp    0\n",
       "delay_category              0\n",
       "freight_value_log           0\n",
       "product_category_grouped    0\n",
       "dtype: int64"
      ]
     },
     "execution_count": 902,
     "metadata": {},
     "output_type": "execute_result"
    }
   ],
   "source": [
    "X_train.isna().sum()"
   ]
  },
  {
   "cell_type": "code",
   "execution_count": 903,
   "metadata": {},
   "outputs": [
    {
     "name": "stdout",
     "output_type": "stream",
     "text": [
      "<class 'pandas.core.frame.DataFrame'>\n",
      "Index: 86759 entries, 861 to 71631\n",
      "Data columns (total 9 columns):\n",
      " #   Column                    Non-Null Count  Dtype  \n",
      "---  ------                    --------------  -----  \n",
      " 0   review_score              86759 non-null  int64  \n",
      " 1   seller_grade              86759 non-null  int64  \n",
      " 2   time_to_ship_hours        86759 non-null  float64\n",
      " 3   purchase_count            86759 non-null  int64  \n",
      " 4   avg_review_score          86759 non-null  float64\n",
      " 5   order_purchase_timestamp  86759 non-null  object \n",
      " 6   delay_category            86759 non-null  object \n",
      " 7   freight_value_log         86759 non-null  float64\n",
      " 8   product_category_grouped  86759 non-null  object \n",
      "dtypes: float64(3), int64(3), object(3)\n",
      "memory usage: 6.6+ MB\n"
     ]
    }
   ],
   "source": [
    "X_train.info()"
   ]
  },
  {
   "cell_type": "markdown",
   "metadata": {
    "jp-MarkdownHeadingCollapsed": true
   },
   "source": [
    "## time_to_ship_hours(train-split)"
   ]
  },
  {
   "cell_type": "code",
   "execution_count": 904,
   "metadata": {},
   "outputs": [
    {
     "data": {
      "image/png": "[encoded data removed]",
      "text/plain": [
       "<Figure size 640x480 with 1 Axes>"
      ]
     },
     "metadata": {},
     "output_type": "display_data"
    }
   ],
   "source": [
    "sns.histplot(X_train['time_to_ship_hours'], bins=75)\n",
    "plt.show()"
   ]
  },
  {
   "cell_type": "code",
   "execution_count": 905,
   "metadata": {},
   "outputs": [
    {
     "data": {
      "text/plain": [
       "count    86759.000000\n",
       "mean        78.787235\n",
       "std         87.077607\n",
       "min      -4109.098056\n",
       "25%         27.321528\n",
       "50%         53.555556\n",
       "75%         98.704722\n",
       "max       1585.286944\n",
       "Name: time_to_ship_hours, dtype: float64"
      ]
     },
     "execution_count": 905,
     "metadata": {},
     "output_type": "execute_result"
    }
   ],
   "source": [
    "X_train['time_to_ship_hours'].describe()"
   ]
  },
  {
   "cell_type": "code",
   "execution_count": 906,
   "metadata": {},
   "outputs": [
    {
     "data": {
      "text/html": [
       "<div>\n",
       "<style scoped>\n",
       "    .dataframe tbody tr th:only-of-type {\n",
       "        vertical-align: middle;\n",
       "    }\n",
       "\n",
       "    .dataframe tbody tr th {\n",
       "        vertical-align: top;\n",
       "    }\n",
       "\n",
       "    .dataframe thead th {\n",
       "        text-align: right;\n",
       "    }\n",
       "</style>\n",
       "<table border=\"1\" class=\"dataframe\">\n",
       "  <thead>\n",
       "    <tr style=\"text-align: right;\">\n",
       "      <th></th>\n",
       "      <th>review_score</th>\n",
       "      <th>seller_grade</th>\n",
       "      <th>time_to_ship_hours</th>\n",
       "      <th>purchase_count</th>\n",
       "      <th>avg_review_score</th>\n",
       "      <th>order_purchase_timestamp</th>\n",
       "      <th>delay_category</th>\n",
       "      <th>freight_value_log</th>\n",
       "      <th>product_category_grouped</th>\n",
       "    </tr>\n",
       "  </thead>\n",
       "  <tbody>\n",
       "    <tr>\n",
       "      <th>86427</th>\n",
       "      <td>5</td>\n",
       "      <td>1</td>\n",
       "      <td>-1.468889</td>\n",
       "      <td>15</td>\n",
       "      <td>4.409091</td>\n",
       "      <td>2018-08-16 16:45:08</td>\n",
       "      <td>On Time</td>\n",
       "      <td>2.271094</td>\n",
       "      <td>Electronics &amp; Computers</td>\n",
       "    </tr>\n",
       "    <tr>\n",
       "      <th>30635</th>\n",
       "      <td>5</td>\n",
       "      <td>1</td>\n",
       "      <td>-0.924444</td>\n",
       "      <td>93</td>\n",
       "      <td>4.284211</td>\n",
       "      <td>2018-06-18 13:48:28</td>\n",
       "      <td>Early</td>\n",
       "      <td>3.331847</td>\n",
       "      <td>Sports / Outdoors / Garden</td>\n",
       "    </tr>\n",
       "    <tr>\n",
       "      <th>21558</th>\n",
       "      <td>4</td>\n",
       "      <td>1</td>\n",
       "      <td>-1.713889</td>\n",
       "      <td>83</td>\n",
       "      <td>4.047619</td>\n",
       "      <td>2018-06-18 14:04:50</td>\n",
       "      <td>Very Early</td>\n",
       "      <td>2.973487</td>\n",
       "      <td>Sports / Outdoors / Garden</td>\n",
       "    </tr>\n",
       "    <tr>\n",
       "      <th>30408</th>\n",
       "      <td>5</td>\n",
       "      <td>1</td>\n",
       "      <td>-1.246389</td>\n",
       "      <td>94</td>\n",
       "      <td>4.201923</td>\n",
       "      <td>2018-06-19 15:12:47</td>\n",
       "      <td>Very Early</td>\n",
       "      <td>2.649008</td>\n",
       "      <td>Home &amp; Furniture</td>\n",
       "    </tr>\n",
       "    <tr>\n",
       "      <th>19669</th>\n",
       "      <td>5</td>\n",
       "      <td>1</td>\n",
       "      <td>-0.446667</td>\n",
       "      <td>174</td>\n",
       "      <td>3.804233</td>\n",
       "      <td>2018-06-26 11:24:48</td>\n",
       "      <td>Early</td>\n",
       "      <td>3.142858</td>\n",
       "      <td>Sports / Outdoors / Garden</td>\n",
       "    </tr>\n",
       "    <tr>\n",
       "      <th>...</th>\n",
       "      <td>...</td>\n",
       "      <td>...</td>\n",
       "      <td>...</td>\n",
       "      <td>...</td>\n",
       "      <td>...</td>\n",
       "      <td>...</td>\n",
       "      <td>...</td>\n",
       "      <td>...</td>\n",
       "      <td>...</td>\n",
       "    </tr>\n",
       "    <tr>\n",
       "      <th>86173</th>\n",
       "      <td>5</td>\n",
       "      <td>1</td>\n",
       "      <td>-0.076667</td>\n",
       "      <td>43</td>\n",
       "      <td>4.617021</td>\n",
       "      <td>2018-04-27 15:12:36</td>\n",
       "      <td>Very Early</td>\n",
       "      <td>3.406848</td>\n",
       "      <td>Home &amp; Furniture</td>\n",
       "    </tr>\n",
       "    <tr>\n",
       "      <th>13428</th>\n",
       "      <td>4</td>\n",
       "      <td>1</td>\n",
       "      <td>-0.156944</td>\n",
       "      <td>907</td>\n",
       "      <td>3.849755</td>\n",
       "      <td>2018-05-29 14:07:25</td>\n",
       "      <td>Very Early</td>\n",
       "      <td>3.244544</td>\n",
       "      <td>Home &amp; Furniture</td>\n",
       "    </tr>\n",
       "    <tr>\n",
       "      <th>70466</th>\n",
       "      <td>5</td>\n",
       "      <td>1</td>\n",
       "      <td>-0.454444</td>\n",
       "      <td>26</td>\n",
       "      <td>4.423077</td>\n",
       "      <td>2018-08-23 15:58:16</td>\n",
       "      <td>On Time</td>\n",
       "      <td>2.319442</td>\n",
       "      <td>Books</td>\n",
       "    </tr>\n",
       "    <tr>\n",
       "      <th>86472</th>\n",
       "      <td>4</td>\n",
       "      <td>1</td>\n",
       "      <td>-2.111111</td>\n",
       "      <td>3</td>\n",
       "      <td>3.750000</td>\n",
       "      <td>2018-07-06 11:54:40</td>\n",
       "      <td>Very Early</td>\n",
       "      <td>2.721953</td>\n",
       "      <td>Home &amp; Furniture</td>\n",
       "    </tr>\n",
       "    <tr>\n",
       "      <th>51831</th>\n",
       "      <td>1</td>\n",
       "      <td>1</td>\n",
       "      <td>-1.068056</td>\n",
       "      <td>196</td>\n",
       "      <td>4.422886</td>\n",
       "      <td>2018-08-24 13:04:05</td>\n",
       "      <td>Very Early</td>\n",
       "      <td>2.302585</td>\n",
       "      <td>Electronics &amp; Computers</td>\n",
       "    </tr>\n",
       "  </tbody>\n",
       "</table>\n",
       "<p>144 rows × 9 columns</p>\n",
       "</div>"
      ],
      "text/plain": [
       "       review_score  seller_grade  time_to_ship_hours  purchase_count  \\\n",
       "86427             5             1           -1.468889              15   \n",
       "30635             5             1           -0.924444              93   \n",
       "21558             4             1           -1.713889              83   \n",
       "30408             5             1           -1.246389              94   \n",
       "19669             5             1           -0.446667             174   \n",
       "...             ...           ...                 ...             ...   \n",
       "86173             5             1           -0.076667              43   \n",
       "13428             4             1           -0.156944             907   \n",
       "70466             5             1           -0.454444              26   \n",
       "86472             4             1           -2.111111               3   \n",
       "51831             1             1           -1.068056             196   \n",
       "\n",
       "       avg_review_score order_purchase_timestamp delay_category  \\\n",
       "86427          4.409091      2018-08-16 16:45:08        On Time   \n",
       "30635          4.284211      2018-06-18 13:48:28          Early   \n",
       "21558          4.047619      2018-06-18 14:04:50     Very Early   \n",
       "30408          4.201923      2018-06-19 15:12:47     Very Early   \n",
       "19669          3.804233      2018-06-26 11:24:48          Early   \n",
       "...                 ...                      ...            ...   \n",
       "86173          4.617021      2018-04-27 15:12:36     Very Early   \n",
       "13428          3.849755      2018-05-29 14:07:25     Very Early   \n",
       "70466          4.423077      2018-08-23 15:58:16        On Time   \n",
       "86472          3.750000      2018-07-06 11:54:40     Very Early   \n",
       "51831          4.422886      2018-08-24 13:04:05     Very Early   \n",
       "\n",
       "       freight_value_log    product_category_grouped  \n",
       "86427           2.271094     Electronics & Computers  \n",
       "30635           3.331847  Sports / Outdoors / Garden  \n",
       "21558           2.973487  Sports / Outdoors / Garden  \n",
       "30408           2.649008            Home & Furniture  \n",
       "19669           3.142858  Sports / Outdoors / Garden  \n",
       "...                  ...                         ...  \n",
       "86173           3.406848            Home & Furniture  \n",
       "13428           3.244544            Home & Furniture  \n",
       "70466           2.319442                       Books  \n",
       "86472           2.721953            Home & Furniture  \n",
       "51831           2.302585     Electronics & Computers  \n",
       "\n",
       "[144 rows x 9 columns]"
      ]
     },
     "execution_count": 906,
     "metadata": {},
     "output_type": "execute_result"
    }
   ],
   "source": [
    "X_train[X_train['time_to_ship_hours'] < 0]"
   ]
  },
  {
   "cell_type": "markdown",
   "metadata": {},
   "source": [
    "#### As 183 rows are having time_to_ship_hours in negative(less then 0), it does not make any sense, so we will replace it with the mean of their particular group"
   ]
  },
  {
   "cell_type": "code",
   "execution_count": 907,
   "metadata": {},
   "outputs": [],
   "source": [
    "# Replace negative values with NaN first\n",
    "X_train.loc[df['time_to_ship_hours'] < 0, 'time_to_ship_hours'] = np.nan\n",
    "\n",
    "# Fill NaN with the mean of their product_category_grouped\n",
    "X_train['time_to_ship_hours'] = X_train.groupby('product_category_grouped')['time_to_ship_hours'].transform(lambda x: x.fillna(x.mean()))\n"
   ]
  },
  {
   "cell_type": "code",
   "execution_count": 908,
   "metadata": {},
   "outputs": [
    {
     "data": {
      "text/html": [
       "<div>\n",
       "<style scoped>\n",
       "    .dataframe tbody tr th:only-of-type {\n",
       "        vertical-align: middle;\n",
       "    }\n",
       "\n",
       "    .dataframe tbody tr th {\n",
       "        vertical-align: top;\n",
       "    }\n",
       "\n",
       "    .dataframe thead th {\n",
       "        text-align: right;\n",
       "    }\n",
       "</style>\n",
       "<table border=\"1\" class=\"dataframe\">\n",
       "  <thead>\n",
       "    <tr style=\"text-align: right;\">\n",
       "      <th></th>\n",
       "      <th>review_score</th>\n",
       "      <th>seller_grade</th>\n",
       "      <th>time_to_ship_hours</th>\n",
       "      <th>purchase_count</th>\n",
       "      <th>avg_review_score</th>\n",
       "      <th>order_purchase_timestamp</th>\n",
       "      <th>delay_category</th>\n",
       "      <th>freight_value_log</th>\n",
       "      <th>product_category_grouped</th>\n",
       "    </tr>\n",
       "  </thead>\n",
       "  <tbody>\n",
       "    <tr>\n",
       "      <th>861</th>\n",
       "      <td>5</td>\n",
       "      <td>1</td>\n",
       "      <td>24.609444</td>\n",
       "      <td>715</td>\n",
       "      <td>4.189048</td>\n",
       "      <td>2018-06-24 11:32:26</td>\n",
       "      <td>Very Early</td>\n",
       "      <td>3.258097</td>\n",
       "      <td>Electronics &amp; Computers</td>\n",
       "    </tr>\n",
       "    <tr>\n",
       "      <th>44915</th>\n",
       "      <td>5</td>\n",
       "      <td>1</td>\n",
       "      <td>97.099444</td>\n",
       "      <td>653</td>\n",
       "      <td>4.167336</td>\n",
       "      <td>2018-08-24 13:33:02</td>\n",
       "      <td>On Time</td>\n",
       "      <td>2.230014</td>\n",
       "      <td>Sports &amp; Leisure</td>\n",
       "    </tr>\n",
       "    <tr>\n",
       "      <th>26798</th>\n",
       "      <td>5</td>\n",
       "      <td>0</td>\n",
       "      <td>96.037500</td>\n",
       "      <td>12</td>\n",
       "      <td>3.076923</td>\n",
       "      <td>2018-02-22 14:47:02</td>\n",
       "      <td>Early</td>\n",
       "      <td>2.588516</td>\n",
       "      <td>Pet &amp; Animals</td>\n",
       "    </tr>\n",
       "    <tr>\n",
       "      <th>104303</th>\n",
       "      <td>5</td>\n",
       "      <td>1</td>\n",
       "      <td>138.841667</td>\n",
       "      <td>36</td>\n",
       "      <td>4.277778</td>\n",
       "      <td>2018-07-18 19:01:30</td>\n",
       "      <td>Late</td>\n",
       "      <td>3.979121</td>\n",
       "      <td>Electronics &amp; Computers</td>\n",
       "    </tr>\n",
       "    <tr>\n",
       "      <th>58404</th>\n",
       "      <td>5</td>\n",
       "      <td>1</td>\n",
       "      <td>50.598333</td>\n",
       "      <td>400</td>\n",
       "      <td>3.879630</td>\n",
       "      <td>2017-09-09 18:40:39</td>\n",
       "      <td>Very Early</td>\n",
       "      <td>2.553344</td>\n",
       "      <td>Misc / Other</td>\n",
       "    </tr>\n",
       "  </tbody>\n",
       "</table>\n",
       "</div>"
      ],
      "text/plain": [
       "        review_score  seller_grade  time_to_ship_hours  purchase_count  \\\n",
       "861                5             1           24.609444             715   \n",
       "44915              5             1           97.099444             653   \n",
       "26798              5             0           96.037500              12   \n",
       "104303             5             1          138.841667              36   \n",
       "58404              5             1           50.598333             400   \n",
       "\n",
       "        avg_review_score order_purchase_timestamp delay_category  \\\n",
       "861             4.189048      2018-06-24 11:32:26     Very Early   \n",
       "44915           4.167336      2018-08-24 13:33:02        On Time   \n",
       "26798           3.076923      2018-02-22 14:47:02          Early   \n",
       "104303          4.277778      2018-07-18 19:01:30           Late   \n",
       "58404           3.879630      2017-09-09 18:40:39     Very Early   \n",
       "\n",
       "        freight_value_log product_category_grouped  \n",
       "861              3.258097  Electronics & Computers  \n",
       "44915            2.230014         Sports & Leisure  \n",
       "26798            2.588516            Pet & Animals  \n",
       "104303           3.979121  Electronics & Computers  \n",
       "58404            2.553344             Misc / Other  "
      ]
     },
     "execution_count": 908,
     "metadata": {},
     "output_type": "execute_result"
    }
   ],
   "source": [
    "X_train.head()"
   ]
  },
  {
   "cell_type": "code",
   "execution_count": 909,
   "metadata": {},
   "outputs": [
    {
     "data": {
      "text/plain": [
       "np.int64(0)"
      ]
     },
     "execution_count": 909,
     "metadata": {},
     "output_type": "execute_result"
    }
   ],
   "source": [
    "(X_train['time_to_ship_hours'] < 0).sum()"
   ]
  },
  {
   "cell_type": "code",
   "execution_count": 910,
   "metadata": {},
   "outputs": [
    {
     "name": "stdout",
     "output_type": "stream",
     "text": [
      "<class 'pandas.core.frame.DataFrame'>\n",
      "Index: 86759 entries, 861 to 71631\n",
      "Data columns (total 9 columns):\n",
      " #   Column                    Non-Null Count  Dtype  \n",
      "---  ------                    --------------  -----  \n",
      " 0   review_score              86759 non-null  int64  \n",
      " 1   seller_grade              86759 non-null  int64  \n",
      " 2   time_to_ship_hours        86759 non-null  float64\n",
      " 3   purchase_count            86759 non-null  int64  \n",
      " 4   avg_review_score          86759 non-null  float64\n",
      " 5   order_purchase_timestamp  86759 non-null  object \n",
      " 6   delay_category            86759 non-null  object \n",
      " 7   freight_value_log         86759 non-null  float64\n",
      " 8   product_category_grouped  86759 non-null  object \n",
      "dtypes: float64(3), int64(3), object(3)\n",
      "memory usage: 6.6+ MB\n"
     ]
    }
   ],
   "source": [
    "X_train.info()"
   ]
  },
  {
   "cell_type": "markdown",
   "metadata": {
    "jp-MarkdownHeadingCollapsed": true
   },
   "source": [
    "## purchase_count(train-split)"
   ]
  },
  {
   "cell_type": "code",
   "execution_count": 911,
   "metadata": {},
   "outputs": [
    {
     "name": "stdout",
     "output_type": "stream",
     "text": [
      "count    86759.000000\n",
      "mean       376.513491\n",
      "std        489.744393\n",
      "min          1.000000\n",
      "25%         50.000000\n",
      "50%        152.000000\n",
      "75%        477.000000\n",
      "max       1838.000000\n",
      "Name: purchase_count, dtype: float64\n"
     ]
    }
   ],
   "source": [
    "print(X_train['purchase_count'].describe())"
   ]
  },
  {
   "cell_type": "code",
   "execution_count": 912,
   "metadata": {},
   "outputs": [
    {
     "name": "stdout",
     "output_type": "stream",
     "text": [
      "purchase_count\n",
      "1        451\n",
      "2        527\n",
      "3        579\n",
      "4        610\n",
      "5        619\n",
      "        ... \n",
      "1308    1226\n",
      "1399    1531\n",
      "1698    1399\n",
      "1785    1559\n",
      "1838    1583\n",
      "Name: count, Length: 244, dtype: int64\n"
     ]
    }
   ],
   "source": [
    "print(X_train['purchase_count'].value_counts().sort_index())"
   ]
  },
  {
   "cell_type": "markdown",
   "metadata": {},
   "source": [
    "#### Purchase Count Handling\n",
    "\n",
    "##### The `purchase_count` column contains extreme values and a large number of unique values, which can make modeling noisy and less interpretable.  \n",
    "##### To address this, we categorize `purchase_count` into meaningful bins (e.g., Single, Small, Medium, Large, Very Large, Bulk Extreme), reducing variability while preserving the information about order size.  \n"
   ]
  },
  {
   "cell_type": "code",
   "execution_count": 913,
   "metadata": {},
   "outputs": [],
   "source": [
    "def bin_purchase_count(x):\n",
    "    if x == 1:\n",
    "        return \"Single\"\n",
    "    elif x <= 5:\n",
    "        return \"Small\"\n",
    "    elif x <= 20:\n",
    "        return \"Medium\"\n",
    "    elif x <= 100:\n",
    "        return \"Large\"\n",
    "    elif x <= 500:\n",
    "        return \"Very Large\"\n",
    "    else:\n",
    "        return \"Bulk Extreme\"\n",
    "X_train['purchase_count_binned'] = X_train['purchase_count'].apply(bin_purchase_count)\n"
   ]
  },
  {
   "cell_type": "code",
   "execution_count": 914,
   "metadata": {},
   "outputs": [
    {
     "data": {
      "text/plain": [
       "purchase_count_binned\n",
       "Very Large      30573\n",
       "Large           23841\n",
       "Bulk Extreme    21429\n",
       "Medium           8130\n",
       "Small            2335\n",
       "Single            451\n",
       "Name: count, dtype: int64"
      ]
     },
     "execution_count": 914,
     "metadata": {},
     "output_type": "execute_result"
    }
   ],
   "source": [
    "X_train['purchase_count_binned'].value_counts()"
   ]
  },
  {
   "cell_type": "code",
   "execution_count": 915,
   "metadata": {},
   "outputs": [],
   "source": [
    "X_train.drop('purchase_count', axis=1, inplace=True)"
   ]
  },
  {
   "cell_type": "markdown",
   "metadata": {},
   "source": [
    "##### Applyting label Encoding"
   ]
  },
  {
   "cell_type": "code",
   "execution_count": 916,
   "metadata": {},
   "outputs": [],
   "source": [
    "purchase_map = {\"Single\": 0,\"Small\": 1,\"Medium\": 2,\"Large\": 3,\"Very Large\": 4,\"Bulk Extreme\": 5}\n"
   ]
  },
  {
   "cell_type": "code",
   "execution_count": 917,
   "metadata": {},
   "outputs": [
    {
     "name": "stderr",
     "output_type": "stream",
     "text": [
      "C:\\Users\\shubu\\AppData\\Local\\Temp\\ipykernel_21240\\449037171.py:1: FutureWarning: Downcasting behavior in `replace` is deprecated and will be removed in a future version. To retain the old behavior, explicitly call `result.infer_objects(copy=False)`. To opt-in to the future behavior, set `pd.set_option('future.no_silent_downcasting', True)`\n",
      "  X_train['purchase_count_binned'] = X_train['purchase_count_binned'].replace(purchase_map).astype(int)\n"
     ]
    }
   ],
   "source": [
    "X_train['purchase_count_binned'] = X_train['purchase_count_binned'].replace(purchase_map).astype(int)"
   ]
  },
  {
   "cell_type": "code",
   "execution_count": 918,
   "metadata": {},
   "outputs": [
    {
     "name": "stdout",
     "output_type": "stream",
     "text": [
      "<class 'pandas.core.frame.DataFrame'>\n",
      "Index: 86759 entries, 861 to 71631\n",
      "Data columns (total 9 columns):\n",
      " #   Column                    Non-Null Count  Dtype  \n",
      "---  ------                    --------------  -----  \n",
      " 0   review_score              86759 non-null  int64  \n",
      " 1   seller_grade              86759 non-null  int64  \n",
      " 2   time_to_ship_hours        86759 non-null  float64\n",
      " 3   avg_review_score          86759 non-null  float64\n",
      " 4   order_purchase_timestamp  86759 non-null  object \n",
      " 5   delay_category            86759 non-null  object \n",
      " 6   freight_value_log         86759 non-null  float64\n",
      " 7   product_category_grouped  86759 non-null  object \n",
      " 8   purchase_count_binned     86759 non-null  int64  \n",
      "dtypes: float64(3), int64(3), object(3)\n",
      "memory usage: 6.6+ MB\n"
     ]
    }
   ],
   "source": [
    "X_train.info()"
   ]
  },
  {
   "cell_type": "markdown",
   "metadata": {
    "jp-MarkdownHeadingCollapsed": true
   },
   "source": [
    "## avg_review_score(train-split)"
   ]
  },
  {
   "cell_type": "code",
   "execution_count": 919,
   "metadata": {},
   "outputs": [
    {
     "data": {
      "text/html": [
       "<div>\n",
       "<style scoped>\n",
       "    .dataframe tbody tr th:only-of-type {\n",
       "        vertical-align: middle;\n",
       "    }\n",
       "\n",
       "    .dataframe tbody tr th {\n",
       "        vertical-align: top;\n",
       "    }\n",
       "\n",
       "    .dataframe thead th {\n",
       "        text-align: right;\n",
       "    }\n",
       "</style>\n",
       "<table border=\"1\" class=\"dataframe\">\n",
       "  <thead>\n",
       "    <tr style=\"text-align: right;\">\n",
       "      <th></th>\n",
       "      <th>review_score</th>\n",
       "      <th>avg_review_score</th>\n",
       "    </tr>\n",
       "  </thead>\n",
       "  <tbody>\n",
       "    <tr>\n",
       "      <th>review_score</th>\n",
       "      <td>1.000000</td>\n",
       "      <td>0.264646</td>\n",
       "    </tr>\n",
       "    <tr>\n",
       "      <th>avg_review_score</th>\n",
       "      <td>0.264646</td>\n",
       "      <td>1.000000</td>\n",
       "    </tr>\n",
       "  </tbody>\n",
       "</table>\n",
       "</div>"
      ],
      "text/plain": [
       "                  review_score  avg_review_score\n",
       "review_score          1.000000          0.264646\n",
       "avg_review_score      0.264646          1.000000"
      ]
     },
     "execution_count": 919,
     "metadata": {},
     "output_type": "execute_result"
    }
   ],
   "source": [
    "X_train[['review_score','avg_review_score']].corr()"
   ]
  },
  {
   "cell_type": "markdown",
   "metadata": {},
   "source": [
    "### Review Score Features\n",
    "\n",
    "- `review_score`: rating for the current order (1–5)  \n",
    "- `avg_review_score`: historical average rating (1–5)  \n",
    "\n",
    "Correlation is low (~0.26), so both provide useful info. "
   ]
  },
  {
   "cell_type": "code",
   "execution_count": 920,
   "metadata": {},
   "outputs": [
    {
     "name": "stdout",
     "output_type": "stream",
     "text": [
      "<class 'pandas.core.frame.DataFrame'>\n",
      "Index: 86759 entries, 861 to 71631\n",
      "Data columns (total 9 columns):\n",
      " #   Column                    Non-Null Count  Dtype  \n",
      "---  ------                    --------------  -----  \n",
      " 0   review_score              86759 non-null  int64  \n",
      " 1   seller_grade              86759 non-null  int64  \n",
      " 2   time_to_ship_hours        86759 non-null  float64\n",
      " 3   avg_review_score          86759 non-null  float64\n",
      " 4   order_purchase_timestamp  86759 non-null  object \n",
      " 5   delay_category            86759 non-null  object \n",
      " 6   freight_value_log         86759 non-null  float64\n",
      " 7   product_category_grouped  86759 non-null  object \n",
      " 8   purchase_count_binned     86759 non-null  int64  \n",
      "dtypes: float64(3), int64(3), object(3)\n",
      "memory usage: 6.6+ MB\n"
     ]
    }
   ],
   "source": [
    "X_train.info()"
   ]
  },
  {
   "cell_type": "markdown",
   "metadata": {
    "jp-MarkdownHeadingCollapsed": true
   },
   "source": [
    "## order_purchase_timestamp(train-split)"
   ]
  },
  {
   "cell_type": "markdown",
   "metadata": {},
   "source": [
    "#### Datetime Feature Engineering\n",
    "\n",
    "The `order_purchase_timestamp` column is decomposed into multiple features and encoded cyclically to capture periodic patterns:\n",
    "\n",
    "- **Extracted features:** year, month, day, weekday, hour  \n",
    "- **Cyclical encoding:** month, weekday, hour, and optionally day are transformed using sine and cosine to reflect their circular nature (e.g., December → January, Sunday → Monday)  \n",
    "- **Redundant columns dropped:** original timestamp and numeric intermediate columns (month, weekday, hour, day)  \n",
    "- **Purpose:** This allows the model to capture seasonal, weekly, and daily patterns without misinterpreting linear numeric values.\n"
   ]
  },
  {
   "cell_type": "code",
   "execution_count": 921,
   "metadata": {},
   "outputs": [
    {
     "data": {
      "text/plain": [
       "dtype('O')"
      ]
     },
     "execution_count": 921,
     "metadata": {},
     "output_type": "execute_result"
    }
   ],
   "source": [
    "X_train['order_purchase_timestamp'].dtype"
   ]
  },
  {
   "cell_type": "code",
   "execution_count": 922,
   "metadata": {},
   "outputs": [],
   "source": [
    "X_train['order_purchase_timestamp'] = pd.to_datetime(df['order_purchase_timestamp'])"
   ]
  },
  {
   "cell_type": "code",
   "execution_count": 923,
   "metadata": {},
   "outputs": [
    {
     "data": {
      "text/plain": [
       "dtype('<M8[ns]')"
      ]
     },
     "execution_count": 923,
     "metadata": {},
     "output_type": "execute_result"
    }
   ],
   "source": [
    "X_train['order_purchase_timestamp'].dtype"
   ]
  },
  {
   "cell_type": "code",
   "execution_count": 924,
   "metadata": {},
   "outputs": [],
   "source": [
    "# Extract datetime features\n",
    "X_train['order_year'] = X_train['order_purchase_timestamp'].dt.year\n",
    "X_train['order_month'] = X_train['order_purchase_timestamp'].dt.month\n",
    "X_train['order_day'] = X_train['order_purchase_timestamp'].dt.day\n",
    "X_train['order_weekday'] = X_train['order_purchase_timestamp'].dt.weekday\n",
    "X_train['order_hour'] = X_train['order_purchase_timestamp'].dt.hour\n",
    "\n",
    "# Cyclical encoding for periodic features\n",
    "X_train['month_sin'] = np.sin(2 * np.pi * X_train['order_month'] / 12)\n",
    "X_train['month_cos'] = np.cos(2 * np.pi * X_train['order_month'] / 12)\n",
    "X_train['weekday_sin'] = np.sin(2 * np.pi * X_train['order_weekday'] / 7)\n",
    "X_train['weekday_cos'] = np.cos(2 * np.pi * X_train['order_weekday'] / 7)\n",
    "X_train['day_sin'] = np.sin(2 * np.pi * X_train['order_day'] / 31)\n",
    "X_train['day_cos'] = np.cos(2 * np.pi * X_train['order_day'] / 31)\n",
    "X_train['hour_sin'] = np.sin(2 * np.pi * X_train['order_hour'] / 24)\n",
    "X_train['hour_cos'] = np.cos(2 * np.pi * X_train['order_hour'] / 24)"
   ]
  },
  {
   "cell_type": "code",
   "execution_count": 925,
   "metadata": {},
   "outputs": [],
   "source": [
    "X_train.drop(['order_purchase_timestamp','order_month','order_weekday','order_hour','order_day','order_year'],axis = 1,inplace = True)"
   ]
  },
  {
   "cell_type": "code",
   "execution_count": 926,
   "metadata": {},
   "outputs": [
    {
     "name": "stdout",
     "output_type": "stream",
     "text": [
      "<class 'pandas.core.frame.DataFrame'>\n",
      "Index: 86759 entries, 861 to 71631\n",
      "Data columns (total 16 columns):\n",
      " #   Column                    Non-Null Count  Dtype  \n",
      "---  ------                    --------------  -----  \n",
      " 0   review_score              86759 non-null  int64  \n",
      " 1   seller_grade              86759 non-null  int64  \n",
      " 2   time_to_ship_hours        86759 non-null  float64\n",
      " 3   avg_review_score          86759 non-null  float64\n",
      " 4   delay_category            86759 non-null  object \n",
      " 5   freight_value_log         86759 non-null  float64\n",
      " 6   product_category_grouped  86759 non-null  object \n",
      " 7   purchase_count_binned     86759 non-null  int64  \n",
      " 8   month_sin                 86759 non-null  float64\n",
      " 9   month_cos                 86759 non-null  float64\n",
      " 10  weekday_sin               86759 non-null  float64\n",
      " 11  weekday_cos               86759 non-null  float64\n",
      " 12  day_sin                   86759 non-null  float64\n",
      " 13  day_cos                   86759 non-null  float64\n",
      " 14  hour_sin                  86759 non-null  float64\n",
      " 15  hour_cos                  86759 non-null  float64\n",
      "dtypes: float64(11), int64(3), object(2)\n",
      "memory usage: 11.3+ MB\n"
     ]
    }
   ],
   "source": [
    "X_train.info()"
   ]
  },
  {
   "cell_type": "markdown",
   "metadata": {},
   "source": [
    "# Working on each column (for test-Split)"
   ]
  },
  {
   "cell_type": "markdown",
   "metadata": {
    "jp-MarkdownHeadingCollapsed": true
   },
   "source": [
    "## Delivery_delay_hours(test-split)"
   ]
  },
  {
   "cell_type": "code",
   "execution_count": 927,
   "metadata": {},
   "outputs": [
    {
     "name": "stdout",
     "output_type": "stream",
     "text": [
      "delay_category\n",
      "Early         10766\n",
      "Very Early     5443\n",
      "Late           2813\n",
      "On Time        1600\n",
      "Very Late      1068\n",
      "Name: count, dtype: int64\n"
     ]
    }
   ],
   "source": [
    "# Use the same quantiles from X_train\n",
    "# q25, q50, q75, q95 already computed from X_train\n",
    "\n",
    "# Define the same categorization function\n",
    "def categorize_delay_test(x):\n",
    "    if -72 <= x <= 72:  # strictly define \"On Time\"\n",
    "        return 'On Time'\n",
    "    elif x <= q25:\n",
    "        return 'Very Early'\n",
    "    elif q25 < x <= q50:\n",
    "        return 'Early'\n",
    "    elif q50 < x <= q75:\n",
    "        return 'Early'\n",
    "    elif q75 < x <= q95:\n",
    "        return 'Late'\n",
    "    else:\n",
    "        return 'Very Late'\n",
    "\n",
    "# Apply function to X_test\n",
    "X_test['delay_category'] = X_test['delivery_delay_hours'].apply(categorize_delay_test)\n",
    "\n",
    "# Drop the original column\n",
    "X_test.drop(['delivery_delay_hours'], axis=1, inplace=True)\n",
    "\n",
    "# Check results\n",
    "print(X_test['delay_category'].value_counts())\n"
   ]
  },
  {
   "cell_type": "markdown",
   "metadata": {
    "jp-MarkdownHeadingCollapsed": true
   },
   "source": [
    "## Review Score(test-split)"
   ]
  },
  {
   "cell_type": "markdown",
   "metadata": {},
   "source": [
    "##### The review_score feature is slightly skewed towards higher values (4 and 5). During model training, class weights are applied to account for this imbalance, while the test set values remain unchanged to ensure consistent evaluation."
   ]
  },
  {
   "cell_type": "markdown",
   "metadata": {
    "jp-MarkdownHeadingCollapsed": true
   },
   "source": [
    "## freight_value(test-split)"
   ]
  },
  {
   "cell_type": "code",
   "execution_count": 928,
   "metadata": {},
   "outputs": [],
   "source": [
    "# Apply the same log1p transformation to X_test\n",
    "X_test['freight_value_log'] = np.log1p(X_test['freight_value'])\n",
    "\n",
    "# Drop the original column\n",
    "X_test.drop(['freight_value'], axis=1, inplace=True)"
   ]
  },
  {
   "cell_type": "markdown",
   "metadata": {
    "jp-MarkdownHeadingCollapsed": true
   },
   "source": [
    "## Seller_grade(test-split)"
   ]
  },
  {
   "cell_type": "code",
   "execution_count": 929,
   "metadata": {},
   "outputs": [
    {
     "name": "stderr",
     "output_type": "stream",
     "text": [
      "C:\\Users\\shubu\\AppData\\Local\\Temp\\ipykernel_21240\\2759188110.py:2: FutureWarning: Downcasting behavior in `replace` is deprecated and will be removed in a future version. To retain the old behavior, explicitly call `result.infer_objects(copy=False)`. To opt-in to the future behavior, set `pd.set_option('future.no_silent_downcasting', True)`\n",
      "  X_test['seller_grade'] = X_test['seller_grade'].replace(label_map).astype(int)\n"
     ]
    }
   ],
   "source": [
    "# Apply the same label encoding to X_test\n",
    "X_test['seller_grade'] = X_test['seller_grade'].replace(label_map).astype(int)"
   ]
  },
  {
   "cell_type": "markdown",
   "metadata": {
    "jp-MarkdownHeadingCollapsed": true
   },
   "source": [
    "## product_category_name_english(test-split)"
   ]
  },
  {
   "cell_type": "code",
   "execution_count": 930,
   "metadata": {},
   "outputs": [
    {
     "name": "stdout",
     "output_type": "stream",
     "text": [
      "product_category_grouped\n",
      "Home & Furniture              6641\n",
      "Electronics & Computers       3265\n",
      "Sports & Leisure              2779\n",
      "Health & Beauty               2599\n",
      "Sports / Outdoors / Garden    1732\n",
      "Fashion & Accessories         1641\n",
      "Misc / Other                  1096\n",
      "Books                          641\n",
      "Baby & Kids                    607\n",
      "Pet & Animals                  390\n",
      "Food & Drink                   213\n",
      "Arts & Crafts                   58\n",
      "Party & Seasonal                28\n",
      "Name: count, dtype: int64\n"
     ]
    }
   ],
   "source": [
    "# Apply the same group mapping to X_test\n",
    "X_test['product_category_grouped'] = X_test['product_category_name_english'].map(group_mapping)\n",
    "\n",
    "# Drop the original column\n",
    "X_test.drop(['product_category_name_english'], axis=1, inplace=True)\n",
    "\n",
    "# Optional: check results\n",
    "print(X_test['product_category_grouped'].value_counts())"
   ]
  },
  {
   "cell_type": "markdown",
   "metadata": {
    "jp-MarkdownHeadingCollapsed": true
   },
   "source": [
    "## time_to_ship_hours(test-split)"
   ]
  },
  {
   "cell_type": "code",
   "execution_count": 931,
   "metadata": {},
   "outputs": [
    {
     "name": "stdout",
     "output_type": "stream",
     "text": [
      "0\n"
     ]
    }
   ],
   "source": [
    "# Replace negative values with NaN\n",
    "X_test.loc[X_test['time_to_ship_hours'] < 0, 'time_to_ship_hours'] = np.nan\n",
    "\n",
    "# Fill NaN with the mean of their product_category_grouped\n",
    "X_test['time_to_ship_hours'] = X_test.groupby('product_category_grouped')['time_to_ship_hours'].transform(lambda x: x.fillna(x.mean()))\n",
    "\n",
    "# Check that no negative values remain\n",
    "print((X_test['time_to_ship_hours'] < 0).sum())"
   ]
  },
  {
   "cell_type": "markdown",
   "metadata": {
    "jp-MarkdownHeadingCollapsed": true
   },
   "source": [
    "## purchase_count(test-split)"
   ]
  },
  {
   "cell_type": "code",
   "execution_count": 932,
   "metadata": {},
   "outputs": [
    {
     "name": "stdout",
     "output_type": "stream",
     "text": [
      "purchase_count_binned\n",
      "4    7654\n",
      "3    5967\n",
      "5    5380\n",
      "2    1993\n",
      "1     573\n",
      "0     123\n",
      "Name: count, dtype: int64\n"
     ]
    },
    {
     "name": "stderr",
     "output_type": "stream",
     "text": [
      "C:\\Users\\shubu\\AppData\\Local\\Temp\\ipykernel_21240\\1816582145.py:9: FutureWarning: Downcasting behavior in `replace` is deprecated and will be removed in a future version. To retain the old behavior, explicitly call `result.infer_objects(copy=False)`. To opt-in to the future behavior, set `pd.set_option('future.no_silent_downcasting', True)`\n",
      "  X_test['purchase_count_binned'] = X_test['purchase_count_binned'].replace(purchase_map).astype(int)\n"
     ]
    }
   ],
   "source": [
    "# Apply the same binning function\n",
    "X_test['purchase_count_binned'] = X_test['purchase_count'].apply(bin_purchase_count)\n",
    "\n",
    "# Drop the original column\n",
    "X_test.drop('purchase_count', axis=1, inplace=True)\n",
    "\n",
    "# Apply the same label mapping\n",
    "purchase_map = {\"Single\": 0, \"Small\": 1, \"Medium\": 2, \"Large\": 3, \"Very Large\": 4, \"Bulk Extreme\": 5}\n",
    "X_test['purchase_count_binned'] = X_test['purchase_count_binned'].replace(purchase_map).astype(int)\n",
    "\n",
    "# Optional: check result\n",
    "print(X_test['purchase_count_binned'].value_counts())"
   ]
  },
  {
   "cell_type": "markdown",
   "metadata": {
    "jp-MarkdownHeadingCollapsed": true
   },
   "source": [
    "## avg_review_score(test-split)"
   ]
  },
  {
   "cell_type": "markdown",
   "metadata": {},
   "source": [
    "##### For the test set, review_score and avg_review_score are kept unchanged to match the training set, ensuring consistent feature representation for model prediction."
   ]
  },
  {
   "cell_type": "markdown",
   "metadata": {
    "jp-MarkdownHeadingCollapsed": true
   },
   "source": [
    "## order_purchase_timestamp(test-split)"
   ]
  },
  {
   "cell_type": "code",
   "execution_count": 933,
   "metadata": {},
   "outputs": [],
   "source": [
    "# Ensure the timestamp is datetime\n",
    "X_test['order_purchase_timestamp'] = pd.to_datetime(X_test['order_purchase_timestamp'])\n",
    "\n",
    "# Extract datetime features\n",
    "X_test['order_year'] = X_test['order_purchase_timestamp'].dt.year\n",
    "X_test['order_month'] = X_test['order_purchase_timestamp'].dt.month\n",
    "X_test['order_day'] = X_test['order_purchase_timestamp'].dt.day\n",
    "X_test['order_weekday'] = X_test['order_purchase_timestamp'].dt.weekday\n",
    "X_test['order_hour'] = X_test['order_purchase_timestamp'].dt.hour\n",
    "\n",
    "# Cyclical encoding\n",
    "X_test['month_sin'] = np.sin(2 * np.pi * X_test['order_month'] / 12)\n",
    "X_test['month_cos'] = np.cos(2 * np.pi * X_test['order_month'] / 12)\n",
    "X_test['weekday_sin'] = np.sin(2 * np.pi * X_test['order_weekday'] / 7)\n",
    "X_test['weekday_cos'] = np.cos(2 * np.pi * X_test['order_weekday'] / 7)\n",
    "X_test['day_sin'] = np.sin(2 * np.pi * X_test['order_day'] / 31)\n",
    "X_test['day_cos'] = np.cos(2 * np.pi * X_test['order_day'] / 31)\n",
    "X_test['hour_sin'] = np.sin(2 * np.pi * X_test['order_hour'] / 24)\n",
    "X_test['hour_cos'] = np.cos(2 * np.pi * X_test['order_hour'] / 24)\n",
    "\n",
    "# Drop original timestamp and intermediate numeric columns\n",
    "X_test.drop(['order_purchase_timestamp', 'order_month', 'order_weekday', 'order_hour', 'order_day', 'order_year'], axis=1, inplace=True)"
   ]
  },
  {
   "cell_type": "markdown",
   "metadata": {},
   "source": [
    "# Ohe(delay_category and product_category_grouped)(train-split and test-split)"
   ]
  },
  {
   "cell_type": "code",
   "execution_count": 934,
   "metadata": {},
   "outputs": [
    {
     "name": "stdout",
     "output_type": "stream",
     "text": [
      "<class 'pandas.core.frame.DataFrame'>\n",
      "Index: 86759 entries, 861 to 71631\n",
      "Data columns (total 16 columns):\n",
      " #   Column                    Non-Null Count  Dtype  \n",
      "---  ------                    --------------  -----  \n",
      " 0   review_score              86759 non-null  int64  \n",
      " 1   seller_grade              86759 non-null  int64  \n",
      " 2   time_to_ship_hours        86759 non-null  float64\n",
      " 3   avg_review_score          86759 non-null  float64\n",
      " 4   delay_category            86759 non-null  object \n",
      " 5   freight_value_log         86759 non-null  float64\n",
      " 6   product_category_grouped  86759 non-null  object \n",
      " 7   purchase_count_binned     86759 non-null  int64  \n",
      " 8   month_sin                 86759 non-null  float64\n",
      " 9   month_cos                 86759 non-null  float64\n",
      " 10  weekday_sin               86759 non-null  float64\n",
      " 11  weekday_cos               86759 non-null  float64\n",
      " 12  day_sin                   86759 non-null  float64\n",
      " 13  day_cos                   86759 non-null  float64\n",
      " 14  hour_sin                  86759 non-null  float64\n",
      " 15  hour_cos                  86759 non-null  float64\n",
      "dtypes: float64(11), int64(3), object(2)\n",
      "memory usage: 11.3+ MB\n"
     ]
    }
   ],
   "source": [
    "X_train.info()"
   ]
  },
  {
   "cell_type": "code",
   "execution_count": 935,
   "metadata": {},
   "outputs": [
    {
     "name": "stdout",
     "output_type": "stream",
     "text": [
      "<class 'pandas.core.frame.DataFrame'>\n",
      "Index: 21690 entries, 53646 to 67430\n",
      "Data columns (total 16 columns):\n",
      " #   Column                    Non-Null Count  Dtype  \n",
      "---  ------                    --------------  -----  \n",
      " 0   review_score              21690 non-null  int64  \n",
      " 1   seller_grade              21690 non-null  int64  \n",
      " 2   time_to_ship_hours        21690 non-null  float64\n",
      " 3   avg_review_score          21690 non-null  float64\n",
      " 4   delay_category            21690 non-null  object \n",
      " 5   freight_value_log         21690 non-null  float64\n",
      " 6   product_category_grouped  21690 non-null  object \n",
      " 7   purchase_count_binned     21690 non-null  int64  \n",
      " 8   month_sin                 21690 non-null  float64\n",
      " 9   month_cos                 21690 non-null  float64\n",
      " 10  weekday_sin               21690 non-null  float64\n",
      " 11  weekday_cos               21690 non-null  float64\n",
      " 12  day_sin                   21690 non-null  float64\n",
      " 13  day_cos                   21690 non-null  float64\n",
      " 14  hour_sin                  21690 non-null  float64\n",
      " 15  hour_cos                  21690 non-null  float64\n",
      "dtypes: float64(11), int64(3), object(2)\n",
      "memory usage: 2.8+ MB\n"
     ]
    }
   ],
   "source": [
    "X_test.info()"
   ]
  },
  {
   "cell_type": "code",
   "execution_count": 936,
   "metadata": {},
   "outputs": [],
   "source": [
    "# Manual OHE for product_category_grouped\n",
    "product_dummies_train = pd.get_dummies(X_train['product_category_grouped'], prefix='product_category_grouped', drop_first=False)\n",
    "product_dummies_test = pd.get_dummies(X_test['product_category_grouped'], prefix='product_category_grouped', drop_first=False)"
   ]
  },
  {
   "cell_type": "code",
   "execution_count": 937,
   "metadata": {},
   "outputs": [],
   "source": [
    "X_train = X_train.reset_index(drop=True)\n",
    "X_test = X_test.reset_index(drop=True)\n",
    "product_dummies_train = product_dummies_train.reset_index(drop=True)\n",
    "product_dummies_test = product_dummies_test.reset_index(drop=True)"
   ]
  },
  {
   "cell_type": "code",
   "execution_count": 938,
   "metadata": {},
   "outputs": [],
   "source": [
    "X_train = pd.concat([X_train, product_dummies_train], axis=1)\n",
    "X_test = pd.concat([X_test, product_dummies_test], axis=1)"
   ]
  },
  {
   "cell_type": "code",
   "execution_count": 939,
   "metadata": {},
   "outputs": [],
   "source": [
    "# Column to OHE\n",
    "ohe_cols = ['delay_category']\n",
    "\n",
    "# One-hot encode train\n",
    "X_train = pd.get_dummies(X_train, columns=ohe_cols, drop_first=False)\n",
    "\n",
    "# One-hot encode test using the same columns as train\n",
    "X_test = pd.get_dummies(X_test, columns=ohe_cols, drop_first=False)\n",
    "\n",
    "# Align columns (add missing columns in X_test)\n",
    "X_test = X_test.reindex(columns=X_train.columns, fill_value=0)\n"
   ]
  },
  {
   "cell_type": "markdown",
   "metadata": {},
   "source": [
    "# Train-Test Consistency Check"
   ]
  },
  {
   "cell_type": "code",
   "execution_count": 940,
   "metadata": {},
   "outputs": [
    {
     "name": "stdout",
     "output_type": "stream",
     "text": [
      "X_train: (86759, 33)\n",
      "X_test:  (21690, 33)\n",
      "y_train: (86759,)\n",
      "y_test:  (21690,)\n"
     ]
    }
   ],
   "source": [
    "print(\"X_train:\", X_train.shape)\n",
    "print(\"X_test: \", X_test.shape)\n",
    "print(\"y_train:\", y_train.shape)\n",
    "print(\"y_test: \", y_test.shape)"
   ]
  },
  {
   "cell_type": "code",
   "execution_count": 941,
   "metadata": {},
   "outputs": [
    {
     "name": "stdout",
     "output_type": "stream",
     "text": [
      "X_train and X_test columns match\n"
     ]
    }
   ],
   "source": [
    "if list(X_train.columns) == list(X_test.columns):\n",
    "    print(\"X_train and X_test columns match\")\n",
    "else:\n",
    "    print(\"Column mismatch\")"
   ]
  },
  {
   "cell_type": "code",
   "execution_count": 942,
   "metadata": {},
   "outputs": [
    {
     "data": {
      "text/html": [
       "<div>\n",
       "<style scoped>\n",
       "    .dataframe tbody tr th:only-of-type {\n",
       "        vertical-align: middle;\n",
       "    }\n",
       "\n",
       "    .dataframe tbody tr th {\n",
       "        vertical-align: top;\n",
       "    }\n",
       "\n",
       "    .dataframe thead th {\n",
       "        text-align: right;\n",
       "    }\n",
       "</style>\n",
       "<table border=\"1\" class=\"dataframe\">\n",
       "  <thead>\n",
       "    <tr style=\"text-align: right;\">\n",
       "      <th></th>\n",
       "      <th>review_score</th>\n",
       "      <th>seller_grade</th>\n",
       "      <th>time_to_ship_hours</th>\n",
       "      <th>avg_review_score</th>\n",
       "      <th>freight_value_log</th>\n",
       "      <th>product_category_grouped</th>\n",
       "      <th>purchase_count_binned</th>\n",
       "      <th>month_sin</th>\n",
       "      <th>month_cos</th>\n",
       "      <th>weekday_sin</th>\n",
       "      <th>...</th>\n",
       "      <th>product_category_grouped_Misc / Other</th>\n",
       "      <th>product_category_grouped_Party &amp; Seasonal</th>\n",
       "      <th>product_category_grouped_Pet &amp; Animals</th>\n",
       "      <th>product_category_grouped_Sports &amp; Leisure</th>\n",
       "      <th>product_category_grouped_Sports / Outdoors / Garden</th>\n",
       "      <th>delay_category_Early</th>\n",
       "      <th>delay_category_Late</th>\n",
       "      <th>delay_category_On Time</th>\n",
       "      <th>delay_category_Very Early</th>\n",
       "      <th>delay_category_Very Late</th>\n",
       "    </tr>\n",
       "  </thead>\n",
       "  <tbody>\n",
       "    <tr>\n",
       "      <th>0</th>\n",
       "      <td>5</td>\n",
       "      <td>1</td>\n",
       "      <td>24.609444</td>\n",
       "      <td>4.189048</td>\n",
       "      <td>3.258097</td>\n",
       "      <td>Electronics &amp; Computers</td>\n",
       "      <td>5</td>\n",
       "      <td>1.224647e-16</td>\n",
       "      <td>-1.000000e+00</td>\n",
       "      <td>-0.781831</td>\n",
       "      <td>...</td>\n",
       "      <td>False</td>\n",
       "      <td>False</td>\n",
       "      <td>False</td>\n",
       "      <td>False</td>\n",
       "      <td>False</td>\n",
       "      <td>False</td>\n",
       "      <td>False</td>\n",
       "      <td>False</td>\n",
       "      <td>True</td>\n",
       "      <td>False</td>\n",
       "    </tr>\n",
       "    <tr>\n",
       "      <th>1</th>\n",
       "      <td>5</td>\n",
       "      <td>1</td>\n",
       "      <td>97.099444</td>\n",
       "      <td>4.167336</td>\n",
       "      <td>2.230014</td>\n",
       "      <td>Sports &amp; Leisure</td>\n",
       "      <td>5</td>\n",
       "      <td>-8.660254e-01</td>\n",
       "      <td>-5.000000e-01</td>\n",
       "      <td>-0.433884</td>\n",
       "      <td>...</td>\n",
       "      <td>False</td>\n",
       "      <td>False</td>\n",
       "      <td>False</td>\n",
       "      <td>True</td>\n",
       "      <td>False</td>\n",
       "      <td>False</td>\n",
       "      <td>False</td>\n",
       "      <td>True</td>\n",
       "      <td>False</td>\n",
       "      <td>False</td>\n",
       "    </tr>\n",
       "    <tr>\n",
       "      <th>2</th>\n",
       "      <td>5</td>\n",
       "      <td>0</td>\n",
       "      <td>96.037500</td>\n",
       "      <td>3.076923</td>\n",
       "      <td>2.588516</td>\n",
       "      <td>Pet &amp; Animals</td>\n",
       "      <td>2</td>\n",
       "      <td>8.660254e-01</td>\n",
       "      <td>5.000000e-01</td>\n",
       "      <td>0.433884</td>\n",
       "      <td>...</td>\n",
       "      <td>False</td>\n",
       "      <td>False</td>\n",
       "      <td>True</td>\n",
       "      <td>False</td>\n",
       "      <td>False</td>\n",
       "      <td>True</td>\n",
       "      <td>False</td>\n",
       "      <td>False</td>\n",
       "      <td>False</td>\n",
       "      <td>False</td>\n",
       "    </tr>\n",
       "    <tr>\n",
       "      <th>3</th>\n",
       "      <td>5</td>\n",
       "      <td>1</td>\n",
       "      <td>138.841667</td>\n",
       "      <td>4.277778</td>\n",
       "      <td>3.979121</td>\n",
       "      <td>Electronics &amp; Computers</td>\n",
       "      <td>3</td>\n",
       "      <td>-5.000000e-01</td>\n",
       "      <td>-8.660254e-01</td>\n",
       "      <td>0.974928</td>\n",
       "      <td>...</td>\n",
       "      <td>False</td>\n",
       "      <td>False</td>\n",
       "      <td>False</td>\n",
       "      <td>False</td>\n",
       "      <td>False</td>\n",
       "      <td>False</td>\n",
       "      <td>True</td>\n",
       "      <td>False</td>\n",
       "      <td>False</td>\n",
       "      <td>False</td>\n",
       "    </tr>\n",
       "    <tr>\n",
       "      <th>4</th>\n",
       "      <td>5</td>\n",
       "      <td>1</td>\n",
       "      <td>50.598333</td>\n",
       "      <td>3.879630</td>\n",
       "      <td>2.553344</td>\n",
       "      <td>Misc / Other</td>\n",
       "      <td>4</td>\n",
       "      <td>-1.000000e+00</td>\n",
       "      <td>-1.836970e-16</td>\n",
       "      <td>-0.974928</td>\n",
       "      <td>...</td>\n",
       "      <td>True</td>\n",
       "      <td>False</td>\n",
       "      <td>False</td>\n",
       "      <td>False</td>\n",
       "      <td>False</td>\n",
       "      <td>False</td>\n",
       "      <td>False</td>\n",
       "      <td>False</td>\n",
       "      <td>True</td>\n",
       "      <td>False</td>\n",
       "    </tr>\n",
       "  </tbody>\n",
       "</table>\n",
       "<p>5 rows × 33 columns</p>\n",
       "</div>"
      ],
      "text/plain": [
       "   review_score  seller_grade  time_to_ship_hours  avg_review_score  \\\n",
       "0             5             1           24.609444          4.189048   \n",
       "1             5             1           97.099444          4.167336   \n",
       "2             5             0           96.037500          3.076923   \n",
       "3             5             1          138.841667          4.277778   \n",
       "4             5             1           50.598333          3.879630   \n",
       "\n",
       "   freight_value_log product_category_grouped  purchase_count_binned  \\\n",
       "0           3.258097  Electronics & Computers                      5   \n",
       "1           2.230014         Sports & Leisure                      5   \n",
       "2           2.588516            Pet & Animals                      2   \n",
       "3           3.979121  Electronics & Computers                      3   \n",
       "4           2.553344             Misc / Other                      4   \n",
       "\n",
       "      month_sin     month_cos  weekday_sin  ...  \\\n",
       "0  1.224647e-16 -1.000000e+00    -0.781831  ...   \n",
       "1 -8.660254e-01 -5.000000e-01    -0.433884  ...   \n",
       "2  8.660254e-01  5.000000e-01     0.433884  ...   \n",
       "3 -5.000000e-01 -8.660254e-01     0.974928  ...   \n",
       "4 -1.000000e+00 -1.836970e-16    -0.974928  ...   \n",
       "\n",
       "   product_category_grouped_Misc / Other  \\\n",
       "0                                  False   \n",
       "1                                  False   \n",
       "2                                  False   \n",
       "3                                  False   \n",
       "4                                   True   \n",
       "\n",
       "   product_category_grouped_Party & Seasonal  \\\n",
       "0                                      False   \n",
       "1                                      False   \n",
       "2                                      False   \n",
       "3                                      False   \n",
       "4                                      False   \n",
       "\n",
       "   product_category_grouped_Pet & Animals  \\\n",
       "0                                   False   \n",
       "1                                   False   \n",
       "2                                    True   \n",
       "3                                   False   \n",
       "4                                   False   \n",
       "\n",
       "   product_category_grouped_Sports & Leisure  \\\n",
       "0                                      False   \n",
       "1                                       True   \n",
       "2                                      False   \n",
       "3                                      False   \n",
       "4                                      False   \n",
       "\n",
       "   product_category_grouped_Sports / Outdoors / Garden  delay_category_Early  \\\n",
       "0                                              False                   False   \n",
       "1                                              False                   False   \n",
       "2                                              False                    True   \n",
       "3                                              False                   False   \n",
       "4                                              False                   False   \n",
       "\n",
       "   delay_category_Late  delay_category_On Time  delay_category_Very Early  \\\n",
       "0                False                   False                       True   \n",
       "1                False                    True                      False   \n",
       "2                False                   False                      False   \n",
       "3                 True                   False                      False   \n",
       "4                False                   False                       True   \n",
       "\n",
       "   delay_category_Very Late  \n",
       "0                     False  \n",
       "1                     False  \n",
       "2                     False  \n",
       "3                     False  \n",
       "4                     False  \n",
       "\n",
       "[5 rows x 33 columns]"
      ]
     },
     "execution_count": 942,
     "metadata": {},
     "output_type": "execute_result"
    }
   ],
   "source": [
    "X_train.head()"
   ]
  },
  {
   "cell_type": "code",
   "execution_count": 943,
   "metadata": {},
   "outputs": [
    {
     "data": {
      "text/plain": [
       "(np.int64(0), np.int64(0), np.int64(0), np.int64(0))"
      ]
     },
     "execution_count": 943,
     "metadata": {},
     "output_type": "execute_result"
    }
   ],
   "source": [
    "X_train.isna().sum().sum(), X_test.isna().sum().sum(), y_train.isna().sum(), y_test.isna().sum()"
   ]
  },
  {
   "cell_type": "code",
   "execution_count": 944,
   "metadata": {},
   "outputs": [
    {
     "data": {
      "text/plain": [
       "bool       18\n",
       "float64    11\n",
       "int64       3\n",
       "object      1\n",
       "Name: count, dtype: int64"
      ]
     },
     "execution_count": 944,
     "metadata": {},
     "output_type": "execute_result"
    }
   ],
   "source": [
    "X_train.dtypes.value_counts()"
   ]
  },
  {
   "cell_type": "code",
   "execution_count": 945,
   "metadata": {},
   "outputs": [],
   "source": [
    "# Align columns of test set with train set\n",
    "X_test = X_test.reindex(columns=X_train.columns, fill_value=0)"
   ]
  },
  {
   "cell_type": "markdown",
   "metadata": {},
   "source": [
    "# Model Building"
   ]
  },
  {
   "cell_type": "code",
   "execution_count": 946,
   "metadata": {},
   "outputs": [
    {
     "data": {
      "text/html": [
       "<div>\n",
       "<style scoped>\n",
       "    .dataframe tbody tr th:only-of-type {\n",
       "        vertical-align: middle;\n",
       "    }\n",
       "\n",
       "    .dataframe tbody tr th {\n",
       "        vertical-align: top;\n",
       "    }\n",
       "\n",
       "    .dataframe thead th {\n",
       "        text-align: right;\n",
       "    }\n",
       "</style>\n",
       "<table border=\"1\" class=\"dataframe\">\n",
       "  <thead>\n",
       "    <tr style=\"text-align: right;\">\n",
       "      <th></th>\n",
       "      <th>review_score</th>\n",
       "      <th>seller_grade</th>\n",
       "      <th>time_to_ship_hours</th>\n",
       "      <th>avg_review_score</th>\n",
       "      <th>freight_value_log</th>\n",
       "      <th>product_category_grouped</th>\n",
       "      <th>purchase_count_binned</th>\n",
       "      <th>month_sin</th>\n",
       "      <th>month_cos</th>\n",
       "      <th>weekday_sin</th>\n",
       "      <th>...</th>\n",
       "      <th>product_category_grouped_Misc / Other</th>\n",
       "      <th>product_category_grouped_Party &amp; Seasonal</th>\n",
       "      <th>product_category_grouped_Pet &amp; Animals</th>\n",
       "      <th>product_category_grouped_Sports &amp; Leisure</th>\n",
       "      <th>product_category_grouped_Sports / Outdoors / Garden</th>\n",
       "      <th>delay_category_Early</th>\n",
       "      <th>delay_category_Late</th>\n",
       "      <th>delay_category_On Time</th>\n",
       "      <th>delay_category_Very Early</th>\n",
       "      <th>delay_category_Very Late</th>\n",
       "    </tr>\n",
       "  </thead>\n",
       "  <tbody>\n",
       "    <tr>\n",
       "      <th>0</th>\n",
       "      <td>5</td>\n",
       "      <td>1</td>\n",
       "      <td>24.609444</td>\n",
       "      <td>4.189048</td>\n",
       "      <td>3.258097</td>\n",
       "      <td>Electronics &amp; Computers</td>\n",
       "      <td>5</td>\n",
       "      <td>1.224647e-16</td>\n",
       "      <td>-1.000000e+00</td>\n",
       "      <td>-0.781831</td>\n",
       "      <td>...</td>\n",
       "      <td>False</td>\n",
       "      <td>False</td>\n",
       "      <td>False</td>\n",
       "      <td>False</td>\n",
       "      <td>False</td>\n",
       "      <td>False</td>\n",
       "      <td>False</td>\n",
       "      <td>False</td>\n",
       "      <td>True</td>\n",
       "      <td>False</td>\n",
       "    </tr>\n",
       "    <tr>\n",
       "      <th>1</th>\n",
       "      <td>5</td>\n",
       "      <td>1</td>\n",
       "      <td>97.099444</td>\n",
       "      <td>4.167336</td>\n",
       "      <td>2.230014</td>\n",
       "      <td>Sports &amp; Leisure</td>\n",
       "      <td>5</td>\n",
       "      <td>-8.660254e-01</td>\n",
       "      <td>-5.000000e-01</td>\n",
       "      <td>-0.433884</td>\n",
       "      <td>...</td>\n",
       "      <td>False</td>\n",
       "      <td>False</td>\n",
       "      <td>False</td>\n",
       "      <td>True</td>\n",
       "      <td>False</td>\n",
       "      <td>False</td>\n",
       "      <td>False</td>\n",
       "      <td>True</td>\n",
       "      <td>False</td>\n",
       "      <td>False</td>\n",
       "    </tr>\n",
       "    <tr>\n",
       "      <th>2</th>\n",
       "      <td>5</td>\n",
       "      <td>0</td>\n",
       "      <td>96.037500</td>\n",
       "      <td>3.076923</td>\n",
       "      <td>2.588516</td>\n",
       "      <td>Pet &amp; Animals</td>\n",
       "      <td>2</td>\n",
       "      <td>8.660254e-01</td>\n",
       "      <td>5.000000e-01</td>\n",
       "      <td>0.433884</td>\n",
       "      <td>...</td>\n",
       "      <td>False</td>\n",
       "      <td>False</td>\n",
       "      <td>True</td>\n",
       "      <td>False</td>\n",
       "      <td>False</td>\n",
       "      <td>True</td>\n",
       "      <td>False</td>\n",
       "      <td>False</td>\n",
       "      <td>False</td>\n",
       "      <td>False</td>\n",
       "    </tr>\n",
       "    <tr>\n",
       "      <th>3</th>\n",
       "      <td>5</td>\n",
       "      <td>1</td>\n",
       "      <td>138.841667</td>\n",
       "      <td>4.277778</td>\n",
       "      <td>3.979121</td>\n",
       "      <td>Electronics &amp; Computers</td>\n",
       "      <td>3</td>\n",
       "      <td>-5.000000e-01</td>\n",
       "      <td>-8.660254e-01</td>\n",
       "      <td>0.974928</td>\n",
       "      <td>...</td>\n",
       "      <td>False</td>\n",
       "      <td>False</td>\n",
       "      <td>False</td>\n",
       "      <td>False</td>\n",
       "      <td>False</td>\n",
       "      <td>False</td>\n",
       "      <td>True</td>\n",
       "      <td>False</td>\n",
       "      <td>False</td>\n",
       "      <td>False</td>\n",
       "    </tr>\n",
       "    <tr>\n",
       "      <th>4</th>\n",
       "      <td>5</td>\n",
       "      <td>1</td>\n",
       "      <td>50.598333</td>\n",
       "      <td>3.879630</td>\n",
       "      <td>2.553344</td>\n",
       "      <td>Misc / Other</td>\n",
       "      <td>4</td>\n",
       "      <td>-1.000000e+00</td>\n",
       "      <td>-1.836970e-16</td>\n",
       "      <td>-0.974928</td>\n",
       "      <td>...</td>\n",
       "      <td>True</td>\n",
       "      <td>False</td>\n",
       "      <td>False</td>\n",
       "      <td>False</td>\n",
       "      <td>False</td>\n",
       "      <td>False</td>\n",
       "      <td>False</td>\n",
       "      <td>False</td>\n",
       "      <td>True</td>\n",
       "      <td>False</td>\n",
       "    </tr>\n",
       "  </tbody>\n",
       "</table>\n",
       "<p>5 rows × 33 columns</p>\n",
       "</div>"
      ],
      "text/plain": [
       "   review_score  seller_grade  time_to_ship_hours  avg_review_score  \\\n",
       "0             5             1           24.609444          4.189048   \n",
       "1             5             1           97.099444          4.167336   \n",
       "2             5             0           96.037500          3.076923   \n",
       "3             5             1          138.841667          4.277778   \n",
       "4             5             1           50.598333          3.879630   \n",
       "\n",
       "   freight_value_log product_category_grouped  purchase_count_binned  \\\n",
       "0           3.258097  Electronics & Computers                      5   \n",
       "1           2.230014         Sports & Leisure                      5   \n",
       "2           2.588516            Pet & Animals                      2   \n",
       "3           3.979121  Electronics & Computers                      3   \n",
       "4           2.553344             Misc / Other                      4   \n",
       "\n",
       "      month_sin     month_cos  weekday_sin  ...  \\\n",
       "0  1.224647e-16 -1.000000e+00    -0.781831  ...   \n",
       "1 -8.660254e-01 -5.000000e-01    -0.433884  ...   \n",
       "2  8.660254e-01  5.000000e-01     0.433884  ...   \n",
       "3 -5.000000e-01 -8.660254e-01     0.974928  ...   \n",
       "4 -1.000000e+00 -1.836970e-16    -0.974928  ...   \n",
       "\n",
       "   product_category_grouped_Misc / Other  \\\n",
       "0                                  False   \n",
       "1                                  False   \n",
       "2                                  False   \n",
       "3                                  False   \n",
       "4                                   True   \n",
       "\n",
       "   product_category_grouped_Party & Seasonal  \\\n",
       "0                                      False   \n",
       "1                                      False   \n",
       "2                                      False   \n",
       "3                                      False   \n",
       "4                                      False   \n",
       "\n",
       "   product_category_grouped_Pet & Animals  \\\n",
       "0                                   False   \n",
       "1                                   False   \n",
       "2                                    True   \n",
       "3                                   False   \n",
       "4                                   False   \n",
       "\n",
       "   product_category_grouped_Sports & Leisure  \\\n",
       "0                                      False   \n",
       "1                                       True   \n",
       "2                                      False   \n",
       "3                                      False   \n",
       "4                                      False   \n",
       "\n",
       "   product_category_grouped_Sports / Outdoors / Garden  delay_category_Early  \\\n",
       "0                                              False                   False   \n",
       "1                                              False                   False   \n",
       "2                                              False                    True   \n",
       "3                                              False                   False   \n",
       "4                                              False                   False   \n",
       "\n",
       "   delay_category_Late  delay_category_On Time  delay_category_Very Early  \\\n",
       "0                False                   False                       True   \n",
       "1                False                    True                      False   \n",
       "2                False                   False                      False   \n",
       "3                 True                   False                      False   \n",
       "4                False                   False                       True   \n",
       "\n",
       "   delay_category_Very Late  \n",
       "0                     False  \n",
       "1                     False  \n",
       "2                     False  \n",
       "3                     False  \n",
       "4                     False  \n",
       "\n",
       "[5 rows x 33 columns]"
      ]
     },
     "execution_count": 946,
     "metadata": {},
     "output_type": "execute_result"
    }
   ],
   "source": [
    "X_train.head()"
   ]
  },
  {
   "cell_type": "code",
   "execution_count": 947,
   "metadata": {},
   "outputs": [],
   "source": [
    "X_train_model = X_train.drop(columns=['product_category_grouped'])\n",
    "X_test_model = X_test.drop(columns=['product_category_grouped'])"
   ]
  },
  {
   "cell_type": "code",
   "execution_count": 948,
   "metadata": {},
   "outputs": [],
   "source": [
    "xgb_model = XGBRegressor(\n",
    "    n_estimators=1500,          # more trees, will stop early if no improvement\n",
    "    learning_rate=0.03,         # slower learning for smoother convergence\n",
    "    max_depth=5,                # reduce depth to prevent overfitting\n",
    "    min_child_weight=4,         # require more samples per leaf\n",
    "    subsample=0.8,              # row sampling\n",
    "    colsample_bytree=0.8,       # feature sampling per tree\n",
    "    gamma=2,                     # higher min loss reduction\n",
    "    reg_alpha=0.2,               # L1 regularization\n",
    "    reg_lambda=2,                # L2 regularization\n",
    "    objective='reg:squarederror',\n",
    "    random_state=16501,\n",
    "    n_jobs=-1,\n",
    "    tree_method='hist'\n",
    ")"
   ]
  },
  {
   "cell_type": "code",
   "execution_count": 949,
   "metadata": {},
   "outputs": [
    {
     "data": {
      "text/html": [
       "<style>#sk-container-id-6 {\n",
       "  /* Definition of color scheme common for light and dark mode */\n",
       "  --sklearn-color-text: #000;\n",
       "  --sklearn-color-text-muted: #666;\n",
       "  --sklearn-color-line: gray;\n",
       "  /* Definition of color scheme for unfitted estimators */\n",
       "  --sklearn-color-unfitted-level-0: #fff5e6;\n",
       "  --sklearn-color-unfitted-level-1: #f6e4d2;\n",
       "  --sklearn-color-unfitted-level-2: #ffe0b3;\n",
       "  --sklearn-color-unfitted-level-3: chocolate;\n",
       "  /* Definition of color scheme for fitted estimators */\n",
       "  --sklearn-color-fitted-level-0: #f0f8ff;\n",
       "  --sklearn-color-fitted-level-1: #d4ebff;\n",
       "  --sklearn-color-fitted-level-2: #b3dbfd;\n",
       "  --sklearn-color-fitted-level-3: cornflowerblue;\n",
       "\n",
       "  /* Specific color for light theme */\n",
       "  --sklearn-color-text-on-default-background: var(--sg-text-color, var(--theme-code-foreground, var(--jp-content-font-color1, black)));\n",
       "  --sklearn-color-background: var(--sg-background-color, var(--theme-background, var(--jp-layout-color0, white)));\n",
       "  --sklearn-color-border-box: var(--sg-text-color, var(--theme-code-foreground, var(--jp-content-font-color1, black)));\n",
       "  --sklearn-color-icon: #696969;\n",
       "\n",
       "  @media (prefers-color-scheme: dark) {\n",
       "    /* Redefinition of color scheme for dark theme */\n",
       "    --sklearn-color-text-on-default-background: var(--sg-text-color, var(--theme-code-foreground, var(--jp-content-font-color1, white)));\n",
       "    --sklearn-color-background: var(--sg-background-color, var(--theme-background, var(--jp-layout-color0, #111)));\n",
       "    --sklearn-color-border-box: var(--sg-text-color, var(--theme-code-foreground, var(--jp-content-font-color1, white)));\n",
       "    --sklearn-color-icon: #878787;\n",
       "  }\n",
       "}\n",
       "\n",
       "#sk-container-id-6 {\n",
       "  color: var(--sklearn-color-text);\n",
       "}\n",
       "\n",
       "#sk-container-id-6 pre {\n",
       "  padding: 0;\n",
       "}\n",
       "\n",
       "#sk-container-id-6 input.sk-hidden--visually {\n",
       "  border: 0;\n",
       "  clip: rect(1px 1px 1px 1px);\n",
       "  clip: rect(1px, 1px, 1px, 1px);\n",
       "  height: 1px;\n",
       "  margin: -1px;\n",
       "  overflow: hidden;\n",
       "  padding: 0;\n",
       "  position: absolute;\n",
       "  width: 1px;\n",
       "}\n",
       "\n",
       "#sk-container-id-6 div.sk-dashed-wrapped {\n",
       "  border: 1px dashed var(--sklearn-color-line);\n",
       "  margin: 0 0.4em 0.5em 0.4em;\n",
       "  box-sizing: border-box;\n",
       "  padding-bottom: 0.4em;\n",
       "  background-color: var(--sklearn-color-background);\n",
       "}\n",
       "\n",
       "#sk-container-id-6 div.sk-container {\n",
       "  /* jupyter's `normalize.less` sets `[hidden] { display: none; }`\n",
       "     but bootstrap.min.css set `[hidden] { display: none !important; }`\n",
       "     so we also need the `!important` here to be able to override the\n",
       "     default hidden behavior on the sphinx rendered scikit-learn.org.\n",
       "     See: https://github.com/scikit-learn/scikit-learn/issues/21755 */\n",
       "  display: inline-block !important;\n",
       "  position: relative;\n",
       "}\n",
       "\n",
       "#sk-container-id-6 div.sk-text-repr-fallback {\n",
       "  display: none;\n",
       "}\n",
       "\n",
       "div.sk-parallel-item,\n",
       "div.sk-serial,\n",
       "div.sk-item {\n",
       "  /* draw centered vertical line to link estimators */\n",
       "  background-image: linear-gradient(var(--sklearn-color-text-on-default-background), var(--sklearn-color-text-on-default-background));\n",
       "  background-size: 2px 100%;\n",
       "  background-repeat: no-repeat;\n",
       "  background-position: center center;\n",
       "}\n",
       "\n",
       "/* Parallel-specific style estimator block */\n",
       "\n",
       "#sk-container-id-6 div.sk-parallel-item::after {\n",
       "  content: \"\";\n",
       "  width: 100%;\n",
       "  border-bottom: 2px solid var(--sklearn-color-text-on-default-background);\n",
       "  flex-grow: 1;\n",
       "}\n",
       "\n",
       "#sk-container-id-6 div.sk-parallel {\n",
       "  display: flex;\n",
       "  align-items: stretch;\n",
       "  justify-content: center;\n",
       "  background-color: var(--sklearn-color-background);\n",
       "  position: relative;\n",
       "}\n",
       "\n",
       "#sk-container-id-6 div.sk-parallel-item {\n",
       "  display: flex;\n",
       "  flex-direction: column;\n",
       "}\n",
       "\n",
       "#sk-container-id-6 div.sk-parallel-item:first-child::after {\n",
       "  align-self: flex-end;\n",
       "  width: 50%;\n",
       "}\n",
       "\n",
       "#sk-container-id-6 div.sk-parallel-item:last-child::after {\n",
       "  align-self: flex-start;\n",
       "  width: 50%;\n",
       "}\n",
       "\n",
       "#sk-container-id-6 div.sk-parallel-item:only-child::after {\n",
       "  width: 0;\n",
       "}\n",
       "\n",
       "/* Serial-specific style estimator block */\n",
       "\n",
       "#sk-container-id-6 div.sk-serial {\n",
       "  display: flex;\n",
       "  flex-direction: column;\n",
       "  align-items: center;\n",
       "  background-color: var(--sklearn-color-background);\n",
       "  padding-right: 1em;\n",
       "  padding-left: 1em;\n",
       "}\n",
       "\n",
       "\n",
       "/* Toggleable style: style used for estimator/Pipeline/ColumnTransformer box that is\n",
       "clickable and can be expanded/collapsed.\n",
       "- Pipeline and ColumnTransformer use this feature and define the default style\n",
       "- Estimators will overwrite some part of the style using the `sk-estimator` class\n",
       "*/\n",
       "\n",
       "/* Pipeline and ColumnTransformer style (default) */\n",
       "\n",
       "#sk-container-id-6 div.sk-toggleable {\n",
       "  /* Default theme specific background. It is overwritten whether we have a\n",
       "  specific estimator or a Pipeline/ColumnTransformer */\n",
       "  background-color: var(--sklearn-color-background);\n",
       "}\n",
       "\n",
       "/* Toggleable label */\n",
       "#sk-container-id-6 label.sk-toggleable__label {\n",
       "  cursor: pointer;\n",
       "  display: flex;\n",
       "  width: 100%;\n",
       "  margin-bottom: 0;\n",
       "  padding: 0.5em;\n",
       "  box-sizing: border-box;\n",
       "  text-align: center;\n",
       "  align-items: start;\n",
       "  justify-content: space-between;\n",
       "  gap: 0.5em;\n",
       "}\n",
       "\n",
       "#sk-container-id-6 label.sk-toggleable__label .caption {\n",
       "  font-size: 0.6rem;\n",
       "  font-weight: lighter;\n",
       "  color: var(--sklearn-color-text-muted);\n",
       "}\n",
       "\n",
       "#sk-container-id-6 label.sk-toggleable__label-arrow:before {\n",
       "  /* Arrow on the left of the label */\n",
       "  content: \"▸\";\n",
       "  float: left;\n",
       "  margin-right: 0.25em;\n",
       "  color: var(--sklearn-color-icon);\n",
       "}\n",
       "\n",
       "#sk-container-id-6 label.sk-toggleable__label-arrow:hover:before {\n",
       "  color: var(--sklearn-color-text);\n",
       "}\n",
       "\n",
       "/* Toggleable content - dropdown */\n",
       "\n",
       "#sk-container-id-6 div.sk-toggleable__content {\n",
       "  display: none;\n",
       "  text-align: left;\n",
       "  /* unfitted */\n",
       "  background-color: var(--sklearn-color-unfitted-level-0);\n",
       "}\n",
       "\n",
       "#sk-container-id-6 div.sk-toggleable__content.fitted {\n",
       "  /* fitted */\n",
       "  background-color: var(--sklearn-color-fitted-level-0);\n",
       "}\n",
       "\n",
       "#sk-container-id-6 div.sk-toggleable__content pre {\n",
       "  margin: 0.2em;\n",
       "  border-radius: 0.25em;\n",
       "  color: var(--sklearn-color-text);\n",
       "  /* unfitted */\n",
       "  background-color: var(--sklearn-color-unfitted-level-0);\n",
       "}\n",
       "\n",
       "#sk-container-id-6 div.sk-toggleable__content.fitted pre {\n",
       "  /* unfitted */\n",
       "  background-color: var(--sklearn-color-fitted-level-0);\n",
       "}\n",
       "\n",
       "#sk-container-id-6 input.sk-toggleable__control:checked~div.sk-toggleable__content {\n",
       "  /* Expand drop-down */\n",
       "  display: block;\n",
       "  width: 100%;\n",
       "  overflow: visible;\n",
       "}\n",
       "\n",
       "#sk-container-id-6 input.sk-toggleable__control:checked~label.sk-toggleable__label-arrow:before {\n",
       "  content: \"▾\";\n",
       "}\n",
       "\n",
       "/* Pipeline/ColumnTransformer-specific style */\n",
       "\n",
       "#sk-container-id-6 div.sk-label input.sk-toggleable__control:checked~label.sk-toggleable__label {\n",
       "  color: var(--sklearn-color-text);\n",
       "  background-color: var(--sklearn-color-unfitted-level-2);\n",
       "}\n",
       "\n",
       "#sk-container-id-6 div.sk-label.fitted input.sk-toggleable__control:checked~label.sk-toggleable__label {\n",
       "  background-color: var(--sklearn-color-fitted-level-2);\n",
       "}\n",
       "\n",
       "/* Estimator-specific style */\n",
       "\n",
       "/* Colorize estimator box */\n",
       "#sk-container-id-6 div.sk-estimator input.sk-toggleable__control:checked~label.sk-toggleable__label {\n",
       "  /* unfitted */\n",
       "  background-color: var(--sklearn-color-unfitted-level-2);\n",
       "}\n",
       "\n",
       "#sk-container-id-6 div.sk-estimator.fitted input.sk-toggleable__control:checked~label.sk-toggleable__label {\n",
       "  /* fitted */\n",
       "  background-color: var(--sklearn-color-fitted-level-2);\n",
       "}\n",
       "\n",
       "#sk-container-id-6 div.sk-label label.sk-toggleable__label,\n",
       "#sk-container-id-6 div.sk-label label {\n",
       "  /* The background is the default theme color */\n",
       "  color: var(--sklearn-color-text-on-default-background);\n",
       "}\n",
       "\n",
       "/* On hover, darken the color of the background */\n",
       "#sk-container-id-6 div.sk-label:hover label.sk-toggleable__label {\n",
       "  color: var(--sklearn-color-text);\n",
       "  background-color: var(--sklearn-color-unfitted-level-2);\n",
       "}\n",
       "\n",
       "/* Label box, darken color on hover, fitted */\n",
       "#sk-container-id-6 div.sk-label.fitted:hover label.sk-toggleable__label.fitted {\n",
       "  color: var(--sklearn-color-text);\n",
       "  background-color: var(--sklearn-color-fitted-level-2);\n",
       "}\n",
       "\n",
       "/* Estimator label */\n",
       "\n",
       "#sk-container-id-6 div.sk-label label {\n",
       "  font-family: monospace;\n",
       "  font-weight: bold;\n",
       "  display: inline-block;\n",
       "  line-height: 1.2em;\n",
       "}\n",
       "\n",
       "#sk-container-id-6 div.sk-label-container {\n",
       "  text-align: center;\n",
       "}\n",
       "\n",
       "/* Estimator-specific */\n",
       "#sk-container-id-6 div.sk-estimator {\n",
       "  font-family: monospace;\n",
       "  border: 1px dotted var(--sklearn-color-border-box);\n",
       "  border-radius: 0.25em;\n",
       "  box-sizing: border-box;\n",
       "  margin-bottom: 0.5em;\n",
       "  /* unfitted */\n",
       "  background-color: var(--sklearn-color-unfitted-level-0);\n",
       "}\n",
       "\n",
       "#sk-container-id-6 div.sk-estimator.fitted {\n",
       "  /* fitted */\n",
       "  background-color: var(--sklearn-color-fitted-level-0);\n",
       "}\n",
       "\n",
       "/* on hover */\n",
       "#sk-container-id-6 div.sk-estimator:hover {\n",
       "  /* unfitted */\n",
       "  background-color: var(--sklearn-color-unfitted-level-2);\n",
       "}\n",
       "\n",
       "#sk-container-id-6 div.sk-estimator.fitted:hover {\n",
       "  /* fitted */\n",
       "  background-color: var(--sklearn-color-fitted-level-2);\n",
       "}\n",
       "\n",
       "/* Specification for estimator info (e.g. \"i\" and \"?\") */\n",
       "\n",
       "/* Common style for \"i\" and \"?\" */\n",
       "\n",
       ".sk-estimator-doc-link,\n",
       "a:link.sk-estimator-doc-link,\n",
       "a:visited.sk-estimator-doc-link {\n",
       "  float: right;\n",
       "  font-size: smaller;\n",
       "  line-height: 1em;\n",
       "  font-family: monospace;\n",
       "  background-color: var(--sklearn-color-background);\n",
       "  border-radius: 1em;\n",
       "  height: 1em;\n",
       "  width: 1em;\n",
       "  text-decoration: none !important;\n",
       "  margin-left: 0.5em;\n",
       "  text-align: center;\n",
       "  /* unfitted */\n",
       "  border: var(--sklearn-color-unfitted-level-1) 1pt solid;\n",
       "  color: var(--sklearn-color-unfitted-level-1);\n",
       "}\n",
       "\n",
       ".sk-estimator-doc-link.fitted,\n",
       "a:link.sk-estimator-doc-link.fitted,\n",
       "a:visited.sk-estimator-doc-link.fitted {\n",
       "  /* fitted */\n",
       "  border: var(--sklearn-color-fitted-level-1) 1pt solid;\n",
       "  color: var(--sklearn-color-fitted-level-1);\n",
       "}\n",
       "\n",
       "/* On hover */\n",
       "div.sk-estimator:hover .sk-estimator-doc-link:hover,\n",
       ".sk-estimator-doc-link:hover,\n",
       "div.sk-label-container:hover .sk-estimator-doc-link:hover,\n",
       ".sk-estimator-doc-link:hover {\n",
       "  /* unfitted */\n",
       "  background-color: var(--sklearn-color-unfitted-level-3);\n",
       "  color: var(--sklearn-color-background);\n",
       "  text-decoration: none;\n",
       "}\n",
       "\n",
       "div.sk-estimator.fitted:hover .sk-estimator-doc-link.fitted:hover,\n",
       ".sk-estimator-doc-link.fitted:hover,\n",
       "div.sk-label-container:hover .sk-estimator-doc-link.fitted:hover,\n",
       ".sk-estimator-doc-link.fitted:hover {\n",
       "  /* fitted */\n",
       "  background-color: var(--sklearn-color-fitted-level-3);\n",
       "  color: var(--sklearn-color-background);\n",
       "  text-decoration: none;\n",
       "}\n",
       "\n",
       "/* Span, style for the box shown on hovering the info icon */\n",
       ".sk-estimator-doc-link span {\n",
       "  display: none;\n",
       "  z-index: 9999;\n",
       "  position: relative;\n",
       "  font-weight: normal;\n",
       "  right: .2ex;\n",
       "  padding: .5ex;\n",
       "  margin: .5ex;\n",
       "  width: min-content;\n",
       "  min-width: 20ex;\n",
       "  max-width: 50ex;\n",
       "  color: var(--sklearn-color-text);\n",
       "  box-shadow: 2pt 2pt 4pt #999;\n",
       "  /* unfitted */\n",
       "  background: var(--sklearn-color-unfitted-level-0);\n",
       "  border: .5pt solid var(--sklearn-color-unfitted-level-3);\n",
       "}\n",
       "\n",
       ".sk-estimator-doc-link.fitted span {\n",
       "  /* fitted */\n",
       "  background: var(--sklearn-color-fitted-level-0);\n",
       "  border: var(--sklearn-color-fitted-level-3);\n",
       "}\n",
       "\n",
       ".sk-estimator-doc-link:hover span {\n",
       "  display: block;\n",
       "}\n",
       "\n",
       "/* \"?\"-specific style due to the `<a>` HTML tag */\n",
       "\n",
       "#sk-container-id-6 a.estimator_doc_link {\n",
       "  float: right;\n",
       "  font-size: 1rem;\n",
       "  line-height: 1em;\n",
       "  font-family: monospace;\n",
       "  background-color: var(--sklearn-color-background);\n",
       "  border-radius: 1rem;\n",
       "  height: 1rem;\n",
       "  width: 1rem;\n",
       "  text-decoration: none;\n",
       "  /* unfitted */\n",
       "  color: var(--sklearn-color-unfitted-level-1);\n",
       "  border: var(--sklearn-color-unfitted-level-1) 1pt solid;\n",
       "}\n",
       "\n",
       "#sk-container-id-6 a.estimator_doc_link.fitted {\n",
       "  /* fitted */\n",
       "  border: var(--sklearn-color-fitted-level-1) 1pt solid;\n",
       "  color: var(--sklearn-color-fitted-level-1);\n",
       "}\n",
       "\n",
       "/* On hover */\n",
       "#sk-container-id-6 a.estimator_doc_link:hover {\n",
       "  /* unfitted */\n",
       "  background-color: var(--sklearn-color-unfitted-level-3);\n",
       "  color: var(--sklearn-color-background);\n",
       "  text-decoration: none;\n",
       "}\n",
       "\n",
       "#sk-container-id-6 a.estimator_doc_link.fitted:hover {\n",
       "  /* fitted */\n",
       "  background-color: var(--sklearn-color-fitted-level-3);\n",
       "}\n",
       "\n",
       ".estimator-table summary {\n",
       "    padding: .5rem;\n",
       "    font-family: monospace;\n",
       "    cursor: pointer;\n",
       "}\n",
       "\n",
       ".estimator-table details[open] {\n",
       "    padding-left: 0.1rem;\n",
       "    padding-right: 0.1rem;\n",
       "    padding-bottom: 0.3rem;\n",
       "}\n",
       "\n",
       ".estimator-table .parameters-table {\n",
       "    margin-left: auto !important;\n",
       "    margin-right: auto !important;\n",
       "}\n",
       "\n",
       ".estimator-table .parameters-table tr:nth-child(odd) {\n",
       "    background-color: #fff;\n",
       "}\n",
       "\n",
       ".estimator-table .parameters-table tr:nth-child(even) {\n",
       "    background-color: #f6f6f6;\n",
       "}\n",
       "\n",
       ".estimator-table .parameters-table tr:hover {\n",
       "    background-color: #e0e0e0;\n",
       "}\n",
       "\n",
       ".estimator-table table td {\n",
       "    border: 1px solid rgba(106, 105, 104, 0.232);\n",
       "}\n",
       "\n",
       ".user-set td {\n",
       "    color:rgb(255, 94, 0);\n",
       "    text-align: left;\n",
       "}\n",
       "\n",
       ".user-set td.value pre {\n",
       "    color:rgb(255, 94, 0) !important;\n",
       "    background-color: transparent !important;\n",
       "}\n",
       "\n",
       ".default td {\n",
       "    color: black;\n",
       "    text-align: left;\n",
       "}\n",
       "\n",
       ".user-set td i,\n",
       ".default td i {\n",
       "    color: black;\n",
       "}\n",
       "\n",
       ".copy-paste-icon {\n",
       "    background-image: url(data:image/svg+xml;base64,PHN2ZyB4bWxucz0iaHR0cDovL3d3dy53My5vcmcvMjAwMC9zdmciIHZpZXdCb3g9IjAgMCA0NDggNTEyIj48IS0tIUZvbnQgQXdlc29tZSBGcmVlIDYuNy4yIGJ5IEBmb250YXdlc29tZSAtIGh0dHBzOi8vZm9udGF3ZXNvbWUuY29tIExpY2Vuc2UgLSBodHRwczovL2ZvbnRhd2Vzb21lLmNvbS9saWNlbnNlL2ZyZWUgQ29weXJpZ2h0IDIwMjUgRm9udGljb25zLCBJbmMuLS0+PHBhdGggZD0iTTIwOCAwTDMzMi4xIDBjMTIuNyAwIDI0LjkgNS4xIDMzLjkgMTQuMWw2Ny45IDY3LjljOSA5IDE0LjEgMjEuMiAxNC4xIDMzLjlMNDQ4IDMzNmMwIDI2LjUtMjEuNSA0OC00OCA0OGwtMTkyIDBjLTI2LjUgMC00OC0yMS41LTQ4LTQ4bDAtMjg4YzAtMjYuNSAyMS41LTQ4IDQ4LTQ4ek00OCAxMjhsODAgMCAwIDY0LTY0IDAgMCAyNTYgMTkyIDAgMC0zMiA2NCAwIDAgNDhjMCAyNi41LTIxLjUgNDgtNDggNDhMNDggNTEyYy0yNi41IDAtNDgtMjEuNS00OC00OEwwIDE3NmMwLTI2LjUgMjEuNS00OCA0OC00OHoiLz48L3N2Zz4=);\n",
       "    background-repeat: no-repeat;\n",
       "    background-size: 14px 14px;\n",
       "    background-position: 0;\n",
       "    display: inline-block;\n",
       "    width: 14px;\n",
       "    height: 14px;\n",
       "    cursor: pointer;\n",
       "}\n",
       "</style><body><div id=\"sk-container-id-6\" class=\"sk-top-container\"><div class=\"sk-text-repr-fallback\"><pre>XGBRegressor(base_score=None, booster=None, callbacks=None,\n",
       "             colsample_bylevel=None, colsample_bynode=None,\n",
       "             colsample_bytree=0.8, device=None, early_stopping_rounds=None,\n",
       "             enable_categorical=False, eval_metric=None, feature_types=None,\n",
       "             feature_weights=None, gamma=2, grow_policy=None,\n",
       "             importance_type=None, interaction_constraints=None,\n",
       "             learning_rate=0.03, max_bin=None, max_cat_threshold=None,\n",
       "             max_cat_to_onehot=None, max_delta_step=None, max_depth=5,\n",
       "             max_leaves=None, min_child_weight=4, missing=nan,\n",
       "             monotone_constraints=None, multi_strategy=None, n_estimators=1500,\n",
       "             n_jobs=-1, num_parallel_tree=None, ...)</pre><b>In a Jupyter environment, please rerun this cell to show the HTML representation or trust the notebook. <br />On GitHub, the HTML representation is unable to render, please try loading this page with nbviewer.org.</b></div><div class=\"sk-container\" hidden><div class=\"sk-item\"><div class=\"sk-estimator fitted sk-toggleable\"><input class=\"sk-toggleable__control sk-hidden--visually\" id=\"sk-estimator-id-6\" type=\"checkbox\" checked><label for=\"sk-estimator-id-6\" class=\"sk-toggleable__label fitted sk-toggleable__label-arrow\"><div><div>XGBRegressor</div></div><div><a class=\"sk-estimator-doc-link fitted\" rel=\"noreferrer\" target=\"_blank\" href=\"https://xgboost.readthedocs.io/en/release_3.0.0/python/python_api.html#xgboost.XGBRegressor\">?<span>Documentation for XGBRegressor</span></a><span class=\"sk-estimator-doc-link fitted\">i<span>Fitted</span></span></div></label><div class=\"sk-toggleable__content fitted\" data-param-prefix=\"\">\n",
       "        <div class=\"estimator-table\">\n",
       "            <details>\n",
       "                <summary>Parameters</summary>\n",
       "                <table class=\"parameters-table\">\n",
       "                  <tbody>\n",
       "                    \n",
       "        <tr class=\"default\">\n",
       "            <td><i class=\"copy-paste-icon\"\n",
       "                 onclick=\"copyToClipboard('objective',\n",
       "                          this.parentElement.nextElementSibling)\"\n",
       "            ></i></td>\n",
       "            <td class=\"param\">objective&nbsp;</td>\n",
       "            <td class=\"value\">&#x27;reg:squarederror&#x27;</td>\n",
       "        </tr>\n",
       "    \n",
       "\n",
       "        <tr class=\"user-set\">\n",
       "            <td><i class=\"copy-paste-icon\"\n",
       "                 onclick=\"copyToClipboard('base_score',\n",
       "                          this.parentElement.nextElementSibling)\"\n",
       "            ></i></td>\n",
       "            <td class=\"param\">base_score&nbsp;</td>\n",
       "            <td class=\"value\">None</td>\n",
       "        </tr>\n",
       "    \n",
       "\n",
       "        <tr class=\"user-set\">\n",
       "            <td><i class=\"copy-paste-icon\"\n",
       "                 onclick=\"copyToClipboard('booster',\n",
       "                          this.parentElement.nextElementSibling)\"\n",
       "            ></i></td>\n",
       "            <td class=\"param\">booster&nbsp;</td>\n",
       "            <td class=\"value\">None</td>\n",
       "        </tr>\n",
       "    \n",
       "\n",
       "        <tr class=\"user-set\">\n",
       "            <td><i class=\"copy-paste-icon\"\n",
       "                 onclick=\"copyToClipboard('callbacks',\n",
       "                          this.parentElement.nextElementSibling)\"\n",
       "            ></i></td>\n",
       "            <td class=\"param\">callbacks&nbsp;</td>\n",
       "            <td class=\"value\">None</td>\n",
       "        </tr>\n",
       "    \n",
       "\n",
       "        <tr class=\"user-set\">\n",
       "            <td><i class=\"copy-paste-icon\"\n",
       "                 onclick=\"copyToClipboard('colsample_bylevel',\n",
       "                          this.parentElement.nextElementSibling)\"\n",
       "            ></i></td>\n",
       "            <td class=\"param\">colsample_bylevel&nbsp;</td>\n",
       "            <td class=\"value\">None</td>\n",
       "        </tr>\n",
       "    \n",
       "\n",
       "        <tr class=\"user-set\">\n",
       "            <td><i class=\"copy-paste-icon\"\n",
       "                 onclick=\"copyToClipboard('colsample_bynode',\n",
       "                          this.parentElement.nextElementSibling)\"\n",
       "            ></i></td>\n",
       "            <td class=\"param\">colsample_bynode&nbsp;</td>\n",
       "            <td class=\"value\">None</td>\n",
       "        </tr>\n",
       "    \n",
       "\n",
       "        <tr class=\"user-set\">\n",
       "            <td><i class=\"copy-paste-icon\"\n",
       "                 onclick=\"copyToClipboard('colsample_bytree',\n",
       "                          this.parentElement.nextElementSibling)\"\n",
       "            ></i></td>\n",
       "            <td class=\"param\">colsample_bytree&nbsp;</td>\n",
       "            <td class=\"value\">0.8</td>\n",
       "        </tr>\n",
       "    \n",
       "\n",
       "        <tr class=\"user-set\">\n",
       "            <td><i class=\"copy-paste-icon\"\n",
       "                 onclick=\"copyToClipboard('device',\n",
       "                          this.parentElement.nextElementSibling)\"\n",
       "            ></i></td>\n",
       "            <td class=\"param\">device&nbsp;</td>\n",
       "            <td class=\"value\">None</td>\n",
       "        </tr>\n",
       "    \n",
       "\n",
       "        <tr class=\"user-set\">\n",
       "            <td><i class=\"copy-paste-icon\"\n",
       "                 onclick=\"copyToClipboard('early_stopping_rounds',\n",
       "                          this.parentElement.nextElementSibling)\"\n",
       "            ></i></td>\n",
       "            <td class=\"param\">early_stopping_rounds&nbsp;</td>\n",
       "            <td class=\"value\">None</td>\n",
       "        </tr>\n",
       "    \n",
       "\n",
       "        <tr class=\"user-set\">\n",
       "            <td><i class=\"copy-paste-icon\"\n",
       "                 onclick=\"copyToClipboard('enable_categorical',\n",
       "                          this.parentElement.nextElementSibling)\"\n",
       "            ></i></td>\n",
       "            <td class=\"param\">enable_categorical&nbsp;</td>\n",
       "            <td class=\"value\">False</td>\n",
       "        </tr>\n",
       "    \n",
       "\n",
       "        <tr class=\"user-set\">\n",
       "            <td><i class=\"copy-paste-icon\"\n",
       "                 onclick=\"copyToClipboard('eval_metric',\n",
       "                          this.parentElement.nextElementSibling)\"\n",
       "            ></i></td>\n",
       "            <td class=\"param\">eval_metric&nbsp;</td>\n",
       "            <td class=\"value\">None</td>\n",
       "        </tr>\n",
       "    \n",
       "\n",
       "        <tr class=\"user-set\">\n",
       "            <td><i class=\"copy-paste-icon\"\n",
       "                 onclick=\"copyToClipboard('feature_types',\n",
       "                          this.parentElement.nextElementSibling)\"\n",
       "            ></i></td>\n",
       "            <td class=\"param\">feature_types&nbsp;</td>\n",
       "            <td class=\"value\">None</td>\n",
       "        </tr>\n",
       "    \n",
       "\n",
       "        <tr class=\"user-set\">\n",
       "            <td><i class=\"copy-paste-icon\"\n",
       "                 onclick=\"copyToClipboard('feature_weights',\n",
       "                          this.parentElement.nextElementSibling)\"\n",
       "            ></i></td>\n",
       "            <td class=\"param\">feature_weights&nbsp;</td>\n",
       "            <td class=\"value\">None</td>\n",
       "        </tr>\n",
       "    \n",
       "\n",
       "        <tr class=\"user-set\">\n",
       "            <td><i class=\"copy-paste-icon\"\n",
       "                 onclick=\"copyToClipboard('gamma',\n",
       "                          this.parentElement.nextElementSibling)\"\n",
       "            ></i></td>\n",
       "            <td class=\"param\">gamma&nbsp;</td>\n",
       "            <td class=\"value\">2</td>\n",
       "        </tr>\n",
       "    \n",
       "\n",
       "        <tr class=\"user-set\">\n",
       "            <td><i class=\"copy-paste-icon\"\n",
       "                 onclick=\"copyToClipboard('grow_policy',\n",
       "                          this.parentElement.nextElementSibling)\"\n",
       "            ></i></td>\n",
       "            <td class=\"param\">grow_policy&nbsp;</td>\n",
       "            <td class=\"value\">None</td>\n",
       "        </tr>\n",
       "    \n",
       "\n",
       "        <tr class=\"user-set\">\n",
       "            <td><i class=\"copy-paste-icon\"\n",
       "                 onclick=\"copyToClipboard('importance_type',\n",
       "                          this.parentElement.nextElementSibling)\"\n",
       "            ></i></td>\n",
       "            <td class=\"param\">importance_type&nbsp;</td>\n",
       "            <td class=\"value\">None</td>\n",
       "        </tr>\n",
       "    \n",
       "\n",
       "        <tr class=\"user-set\">\n",
       "            <td><i class=\"copy-paste-icon\"\n",
       "                 onclick=\"copyToClipboard('interaction_constraints',\n",
       "                          this.parentElement.nextElementSibling)\"\n",
       "            ></i></td>\n",
       "            <td class=\"param\">interaction_constraints&nbsp;</td>\n",
       "            <td class=\"value\">None</td>\n",
       "        </tr>\n",
       "    \n",
       "\n",
       "        <tr class=\"user-set\">\n",
       "            <td><i class=\"copy-paste-icon\"\n",
       "                 onclick=\"copyToClipboard('learning_rate',\n",
       "                          this.parentElement.nextElementSibling)\"\n",
       "            ></i></td>\n",
       "            <td class=\"param\">learning_rate&nbsp;</td>\n",
       "            <td class=\"value\">0.03</td>\n",
       "        </tr>\n",
       "    \n",
       "\n",
       "        <tr class=\"user-set\">\n",
       "            <td><i class=\"copy-paste-icon\"\n",
       "                 onclick=\"copyToClipboard('max_bin',\n",
       "                          this.parentElement.nextElementSibling)\"\n",
       "            ></i></td>\n",
       "            <td class=\"param\">max_bin&nbsp;</td>\n",
       "            <td class=\"value\">None</td>\n",
       "        </tr>\n",
       "    \n",
       "\n",
       "        <tr class=\"user-set\">\n",
       "            <td><i class=\"copy-paste-icon\"\n",
       "                 onclick=\"copyToClipboard('max_cat_threshold',\n",
       "                          this.parentElement.nextElementSibling)\"\n",
       "            ></i></td>\n",
       "            <td class=\"param\">max_cat_threshold&nbsp;</td>\n",
       "            <td class=\"value\">None</td>\n",
       "        </tr>\n",
       "    \n",
       "\n",
       "        <tr class=\"user-set\">\n",
       "            <td><i class=\"copy-paste-icon\"\n",
       "                 onclick=\"copyToClipboard('max_cat_to_onehot',\n",
       "                          this.parentElement.nextElementSibling)\"\n",
       "            ></i></td>\n",
       "            <td class=\"param\">max_cat_to_onehot&nbsp;</td>\n",
       "            <td class=\"value\">None</td>\n",
       "        </tr>\n",
       "    \n",
       "\n",
       "        <tr class=\"user-set\">\n",
       "            <td><i class=\"copy-paste-icon\"\n",
       "                 onclick=\"copyToClipboard('max_delta_step',\n",
       "                          this.parentElement.nextElementSibling)\"\n",
       "            ></i></td>\n",
       "            <td class=\"param\">max_delta_step&nbsp;</td>\n",
       "            <td class=\"value\">None</td>\n",
       "        </tr>\n",
       "    \n",
       "\n",
       "        <tr class=\"user-set\">\n",
       "            <td><i class=\"copy-paste-icon\"\n",
       "                 onclick=\"copyToClipboard('max_depth',\n",
       "                          this.parentElement.nextElementSibling)\"\n",
       "            ></i></td>\n",
       "            <td class=\"param\">max_depth&nbsp;</td>\n",
       "            <td class=\"value\">5</td>\n",
       "        </tr>\n",
       "    \n",
       "\n",
       "        <tr class=\"user-set\">\n",
       "            <td><i class=\"copy-paste-icon\"\n",
       "                 onclick=\"copyToClipboard('max_leaves',\n",
       "                          this.parentElement.nextElementSibling)\"\n",
       "            ></i></td>\n",
       "            <td class=\"param\">max_leaves&nbsp;</td>\n",
       "            <td class=\"value\">None</td>\n",
       "        </tr>\n",
       "    \n",
       "\n",
       "        <tr class=\"user-set\">\n",
       "            <td><i class=\"copy-paste-icon\"\n",
       "                 onclick=\"copyToClipboard('min_child_weight',\n",
       "                          this.parentElement.nextElementSibling)\"\n",
       "            ></i></td>\n",
       "            <td class=\"param\">min_child_weight&nbsp;</td>\n",
       "            <td class=\"value\">4</td>\n",
       "        </tr>\n",
       "    \n",
       "\n",
       "        <tr class=\"user-set\">\n",
       "            <td><i class=\"copy-paste-icon\"\n",
       "                 onclick=\"copyToClipboard('missing',\n",
       "                          this.parentElement.nextElementSibling)\"\n",
       "            ></i></td>\n",
       "            <td class=\"param\">missing&nbsp;</td>\n",
       "            <td class=\"value\">nan</td>\n",
       "        </tr>\n",
       "    \n",
       "\n",
       "        <tr class=\"user-set\">\n",
       "            <td><i class=\"copy-paste-icon\"\n",
       "                 onclick=\"copyToClipboard('monotone_constraints',\n",
       "                          this.parentElement.nextElementSibling)\"\n",
       "            ></i></td>\n",
       "            <td class=\"param\">monotone_constraints&nbsp;</td>\n",
       "            <td class=\"value\">None</td>\n",
       "        </tr>\n",
       "    \n",
       "\n",
       "        <tr class=\"user-set\">\n",
       "            <td><i class=\"copy-paste-icon\"\n",
       "                 onclick=\"copyToClipboard('multi_strategy',\n",
       "                          this.parentElement.nextElementSibling)\"\n",
       "            ></i></td>\n",
       "            <td class=\"param\">multi_strategy&nbsp;</td>\n",
       "            <td class=\"value\">None</td>\n",
       "        </tr>\n",
       "    \n",
       "\n",
       "        <tr class=\"user-set\">\n",
       "            <td><i class=\"copy-paste-icon\"\n",
       "                 onclick=\"copyToClipboard('n_estimators',\n",
       "                          this.parentElement.nextElementSibling)\"\n",
       "            ></i></td>\n",
       "            <td class=\"param\">n_estimators&nbsp;</td>\n",
       "            <td class=\"value\">1500</td>\n",
       "        </tr>\n",
       "    \n",
       "\n",
       "        <tr class=\"user-set\">\n",
       "            <td><i class=\"copy-paste-icon\"\n",
       "                 onclick=\"copyToClipboard('n_jobs',\n",
       "                          this.parentElement.nextElementSibling)\"\n",
       "            ></i></td>\n",
       "            <td class=\"param\">n_jobs&nbsp;</td>\n",
       "            <td class=\"value\">-1</td>\n",
       "        </tr>\n",
       "    \n",
       "\n",
       "        <tr class=\"user-set\">\n",
       "            <td><i class=\"copy-paste-icon\"\n",
       "                 onclick=\"copyToClipboard('num_parallel_tree',\n",
       "                          this.parentElement.nextElementSibling)\"\n",
       "            ></i></td>\n",
       "            <td class=\"param\">num_parallel_tree&nbsp;</td>\n",
       "            <td class=\"value\">None</td>\n",
       "        </tr>\n",
       "    \n",
       "\n",
       "        <tr class=\"user-set\">\n",
       "            <td><i class=\"copy-paste-icon\"\n",
       "                 onclick=\"copyToClipboard('random_state',\n",
       "                          this.parentElement.nextElementSibling)\"\n",
       "            ></i></td>\n",
       "            <td class=\"param\">random_state&nbsp;</td>\n",
       "            <td class=\"value\">16501</td>\n",
       "        </tr>\n",
       "    \n",
       "\n",
       "        <tr class=\"user-set\">\n",
       "            <td><i class=\"copy-paste-icon\"\n",
       "                 onclick=\"copyToClipboard('reg_alpha',\n",
       "                          this.parentElement.nextElementSibling)\"\n",
       "            ></i></td>\n",
       "            <td class=\"param\">reg_alpha&nbsp;</td>\n",
       "            <td class=\"value\">0.2</td>\n",
       "        </tr>\n",
       "    \n",
       "\n",
       "        <tr class=\"user-set\">\n",
       "            <td><i class=\"copy-paste-icon\"\n",
       "                 onclick=\"copyToClipboard('reg_lambda',\n",
       "                          this.parentElement.nextElementSibling)\"\n",
       "            ></i></td>\n",
       "            <td class=\"param\">reg_lambda&nbsp;</td>\n",
       "            <td class=\"value\">2</td>\n",
       "        </tr>\n",
       "    \n",
       "\n",
       "        <tr class=\"user-set\">\n",
       "            <td><i class=\"copy-paste-icon\"\n",
       "                 onclick=\"copyToClipboard('sampling_method',\n",
       "                          this.parentElement.nextElementSibling)\"\n",
       "            ></i></td>\n",
       "            <td class=\"param\">sampling_method&nbsp;</td>\n",
       "            <td class=\"value\">None</td>\n",
       "        </tr>\n",
       "    \n",
       "\n",
       "        <tr class=\"user-set\">\n",
       "            <td><i class=\"copy-paste-icon\"\n",
       "                 onclick=\"copyToClipboard('scale_pos_weight',\n",
       "                          this.parentElement.nextElementSibling)\"\n",
       "            ></i></td>\n",
       "            <td class=\"param\">scale_pos_weight&nbsp;</td>\n",
       "            <td class=\"value\">None</td>\n",
       "        </tr>\n",
       "    \n",
       "\n",
       "        <tr class=\"user-set\">\n",
       "            <td><i class=\"copy-paste-icon\"\n",
       "                 onclick=\"copyToClipboard('subsample',\n",
       "                          this.parentElement.nextElementSibling)\"\n",
       "            ></i></td>\n",
       "            <td class=\"param\">subsample&nbsp;</td>\n",
       "            <td class=\"value\">0.8</td>\n",
       "        </tr>\n",
       "    \n",
       "\n",
       "        <tr class=\"user-set\">\n",
       "            <td><i class=\"copy-paste-icon\"\n",
       "                 onclick=\"copyToClipboard('tree_method',\n",
       "                          this.parentElement.nextElementSibling)\"\n",
       "            ></i></td>\n",
       "            <td class=\"param\">tree_method&nbsp;</td>\n",
       "            <td class=\"value\">&#x27;hist&#x27;</td>\n",
       "        </tr>\n",
       "    \n",
       "\n",
       "        <tr class=\"user-set\">\n",
       "            <td><i class=\"copy-paste-icon\"\n",
       "                 onclick=\"copyToClipboard('validate_parameters',\n",
       "                          this.parentElement.nextElementSibling)\"\n",
       "            ></i></td>\n",
       "            <td class=\"param\">validate_parameters&nbsp;</td>\n",
       "            <td class=\"value\">None</td>\n",
       "        </tr>\n",
       "    \n",
       "\n",
       "        <tr class=\"user-set\">\n",
       "            <td><i class=\"copy-paste-icon\"\n",
       "                 onclick=\"copyToClipboard('verbosity',\n",
       "                          this.parentElement.nextElementSibling)\"\n",
       "            ></i></td>\n",
       "            <td class=\"param\">verbosity&nbsp;</td>\n",
       "            <td class=\"value\">None</td>\n",
       "        </tr>\n",
       "    \n",
       "                  </tbody>\n",
       "                </table>\n",
       "            </details>\n",
       "        </div>\n",
       "    </div></div></div></div></div><script>function copyToClipboard(text, element) {\n",
       "    // Get the parameter prefix from the closest toggleable content\n",
       "    const toggleableContent = element.closest('.sk-toggleable__content');\n",
       "    const paramPrefix = toggleableContent ? toggleableContent.dataset.paramPrefix : '';\n",
       "    const fullParamName = paramPrefix ? `${paramPrefix}${text}` : text;\n",
       "\n",
       "    const originalStyle = element.style;\n",
       "    const computedStyle = window.getComputedStyle(element);\n",
       "    const originalWidth = computedStyle.width;\n",
       "    const originalHTML = element.innerHTML.replace('Copied!', '');\n",
       "\n",
       "    navigator.clipboard.writeText(fullParamName)\n",
       "        .then(() => {\n",
       "            element.style.width = originalWidth;\n",
       "            element.style.color = 'green';\n",
       "            element.innerHTML = \"Copied!\";\n",
       "\n",
       "            setTimeout(() => {\n",
       "                element.innerHTML = originalHTML;\n",
       "                element.style = originalStyle;\n",
       "            }, 2000);\n",
       "        })\n",
       "        .catch(err => {\n",
       "            console.error('Failed to copy:', err);\n",
       "            element.style.color = 'red';\n",
       "            element.innerHTML = \"Failed!\";\n",
       "            setTimeout(() => {\n",
       "                element.innerHTML = originalHTML;\n",
       "                element.style = originalStyle;\n",
       "            }, 2000);\n",
       "        });\n",
       "    return false;\n",
       "}\n",
       "\n",
       "document.querySelectorAll('.fa-regular.fa-copy').forEach(function(element) {\n",
       "    const toggleableContent = element.closest('.sk-toggleable__content');\n",
       "    const paramPrefix = toggleableContent ? toggleableContent.dataset.paramPrefix : '';\n",
       "    const paramName = element.parentElement.nextElementSibling.textContent.trim();\n",
       "    const fullParamName = paramPrefix ? `${paramPrefix}${paramName}` : paramName;\n",
       "\n",
       "    element.setAttribute('title', fullParamName);\n",
       "});\n",
       "</script></body>"
      ],
      "text/plain": [
       "XGBRegressor(base_score=None, booster=None, callbacks=None,\n",
       "             colsample_bylevel=None, colsample_bynode=None,\n",
       "             colsample_bytree=0.8, device=None, early_stopping_rounds=None,\n",
       "             enable_categorical=False, eval_metric=None, feature_types=None,\n",
       "             feature_weights=None, gamma=2, grow_policy=None,\n",
       "             importance_type=None, interaction_constraints=None,\n",
       "             learning_rate=0.03, max_bin=None, max_cat_threshold=None,\n",
       "             max_cat_to_onehot=None, max_delta_step=None, max_depth=5,\n",
       "             max_leaves=None, min_child_weight=4, missing=nan,\n",
       "             monotone_constraints=None, multi_strategy=None, n_estimators=1500,\n",
       "             n_jobs=-1, num_parallel_tree=None, ...)"
      ]
     },
     "execution_count": 949,
     "metadata": {},
     "output_type": "execute_result"
    }
   ],
   "source": [
    "xgb_model.fit(X_train_model, y_train)"
   ]
  },
  {
   "cell_type": "code",
   "execution_count": 950,
   "metadata": {},
   "outputs": [
    {
     "name": "stdout",
     "output_type": "stream",
     "text": [
      "RMSE: 129.75797712099296\n"
     ]
    }
   ],
   "source": [
    "y_pred = xgb_model.predict(X_test_model)\n",
    "mse = mean_squared_error(y_test, y_pred)\n",
    "rmse = np.sqrt(mse)   # manually take square root\n",
    "print(\"RMSE:\", rmse)"
   ]
  },
  {
   "cell_type": "code",
   "execution_count": 951,
   "metadata": {},
   "outputs": [
    {
     "name": "stdout",
     "output_type": "stream",
     "text": [
      "Train MSE: 10863.808662755004\n",
      "Train MAE: 52.587813316134806\n",
      "Train R2: 0.6706836479984752\n",
      "Test MSE: 16837.132626532133\n",
      "Test MAE: 57.92323327297656\n",
      "Test R2: 0.4555916272357845\n"
     ]
    }
   ],
   "source": [
    "# Predict on train and test\n",
    "y_train_pred = xgb_model.predict(X_train_model)\n",
    "y_test_pred = xgb_model.predict(X_test_model)\n",
    "\n",
    "# Training metrics\n",
    "print(\"Train MSE:\", mean_squared_error(y_train, y_train_pred))\n",
    "print(\"Train MAE:\", mean_absolute_error(y_train, y_train_pred))\n",
    "print(\"Train R2:\", r2_score(y_train, y_train_pred))\n",
    "\n",
    "# Test metrics\n",
    "print(\"Test MSE:\", mean_squared_error(y_test, y_test_pred))\n",
    "print(\"Test MAE:\", mean_absolute_error(y_test, y_test_pred))\n",
    "print(\"Test R2:\", r2_score(y_test, y_test_pred))\n"
   ]
  },
  {
   "cell_type": "code",
   "execution_count": 959,
   "metadata": {},
   "outputs": [],
   "source": [
    "with open(\"model/xgb_price_model.pkl\", \"wb\") as f:\n",
    "    pickle.dump(xgb_model, f)\n"
   ]
  }
 ],
 "metadata": {
  "colab": {
   "authorship_tag": "ABX9TyNW1hS6KcpIrYhZqZcdWrvH",
   "provenance": []
  },
  "kernelspec": {
   "display_name": "Python (Dynamic-Price-Optimization)",
   "language": "python",
   "name": "dynamic-price-optimization"
  },
  "language_info": {
   "codemirror_mode": {
    "name": "ipython",
    "version": 3
   },
   "file_extension": ".py",
   "mimetype": "text/x-python",
   "name": "python",
   "nbconvert_exporter": "python",
   "pygments_lexer": "ipython3",
   "version": "3.10.11"
  }
 },
 "nbformat": 4,
 "nbformat_minor": 4
}
